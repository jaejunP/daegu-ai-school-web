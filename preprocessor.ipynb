{
 "cells": [
  {
   "cell_type": "code",
   "execution_count": 1,
   "id": "70327ad3",
   "metadata": {},
   "outputs": [],
   "source": [
    "#먼저 필요한 패키지를 가져옵니다\n",
    "\n",
    "import numpy as np\n",
    "import pandas as pd\n",
    "import sklearn\n",
    "import matplotlib.pyplot as plt"
   ]
  },
  {
   "cell_type": "code",
   "execution_count": 2,
   "id": "49f798cd",
   "metadata": {},
   "outputs": [],
   "source": [
    "abalone_columns = list()   #list타입의 저장공간이 생김\n",
    "for l in open('data/abalone_attributes.txt'):\n",
    "    abalone_columns.append(l.strip())\n",
    "    \n",
    "abalone_columns\n",
    "\n",
    "data = pd.read_csv('data/abalone.txt', header=None, names=abalone_columns)   #header는 없으니까 None"
   ]
  },
  {
   "cell_type": "code",
   "execution_count": 3,
   "id": "a89d3e95",
   "metadata": {},
   "outputs": [
    {
     "data": {
      "text/html": [
       "<div>\n",
       "<style scoped>\n",
       "    .dataframe tbody tr th:only-of-type {\n",
       "        vertical-align: middle;\n",
       "    }\n",
       "\n",
       "    .dataframe tbody tr th {\n",
       "        vertical-align: top;\n",
       "    }\n",
       "\n",
       "    .dataframe thead th {\n",
       "        text-align: right;\n",
       "    }\n",
       "</style>\n",
       "<table border=\"1\" class=\"dataframe\">\n",
       "  <thead>\n",
       "    <tr style=\"text-align: right;\">\n",
       "      <th></th>\n",
       "      <th>Sex</th>\n",
       "      <th>Length</th>\n",
       "      <th>Diameter</th>\n",
       "      <th>Height</th>\n",
       "      <th>Whole weight</th>\n",
       "      <th>Shucked weight</th>\n",
       "      <th>Viscera weight</th>\n",
       "      <th>Shell weight</th>\n",
       "      <th>Rings</th>\n",
       "    </tr>\n",
       "  </thead>\n",
       "  <tbody>\n",
       "    <tr>\n",
       "      <th>0</th>\n",
       "      <td>M</td>\n",
       "      <td>0.455</td>\n",
       "      <td>0.365</td>\n",
       "      <td>0.095</td>\n",
       "      <td>0.5140</td>\n",
       "      <td>0.2245</td>\n",
       "      <td>0.1010</td>\n",
       "      <td>0.1500</td>\n",
       "      <td>15</td>\n",
       "    </tr>\n",
       "    <tr>\n",
       "      <th>1</th>\n",
       "      <td>M</td>\n",
       "      <td>0.350</td>\n",
       "      <td>0.265</td>\n",
       "      <td>0.090</td>\n",
       "      <td>0.2255</td>\n",
       "      <td>0.0995</td>\n",
       "      <td>0.0485</td>\n",
       "      <td>0.0700</td>\n",
       "      <td>7</td>\n",
       "    </tr>\n",
       "    <tr>\n",
       "      <th>2</th>\n",
       "      <td>F</td>\n",
       "      <td>0.530</td>\n",
       "      <td>0.420</td>\n",
       "      <td>0.135</td>\n",
       "      <td>0.6770</td>\n",
       "      <td>0.2565</td>\n",
       "      <td>0.1415</td>\n",
       "      <td>0.2100</td>\n",
       "      <td>9</td>\n",
       "    </tr>\n",
       "    <tr>\n",
       "      <th>3</th>\n",
       "      <td>M</td>\n",
       "      <td>0.440</td>\n",
       "      <td>0.365</td>\n",
       "      <td>0.125</td>\n",
       "      <td>0.5160</td>\n",
       "      <td>0.2155</td>\n",
       "      <td>0.1140</td>\n",
       "      <td>0.1550</td>\n",
       "      <td>10</td>\n",
       "    </tr>\n",
       "    <tr>\n",
       "      <th>4</th>\n",
       "      <td>I</td>\n",
       "      <td>0.330</td>\n",
       "      <td>0.255</td>\n",
       "      <td>0.080</td>\n",
       "      <td>0.2050</td>\n",
       "      <td>0.0895</td>\n",
       "      <td>0.0395</td>\n",
       "      <td>0.0550</td>\n",
       "      <td>7</td>\n",
       "    </tr>\n",
       "    <tr>\n",
       "      <th>...</th>\n",
       "      <td>...</td>\n",
       "      <td>...</td>\n",
       "      <td>...</td>\n",
       "      <td>...</td>\n",
       "      <td>...</td>\n",
       "      <td>...</td>\n",
       "      <td>...</td>\n",
       "      <td>...</td>\n",
       "      <td>...</td>\n",
       "    </tr>\n",
       "    <tr>\n",
       "      <th>4172</th>\n",
       "      <td>F</td>\n",
       "      <td>0.565</td>\n",
       "      <td>0.450</td>\n",
       "      <td>0.165</td>\n",
       "      <td>0.8870</td>\n",
       "      <td>0.3700</td>\n",
       "      <td>0.2390</td>\n",
       "      <td>0.2490</td>\n",
       "      <td>11</td>\n",
       "    </tr>\n",
       "    <tr>\n",
       "      <th>4173</th>\n",
       "      <td>M</td>\n",
       "      <td>0.590</td>\n",
       "      <td>0.440</td>\n",
       "      <td>0.135</td>\n",
       "      <td>0.9660</td>\n",
       "      <td>0.4390</td>\n",
       "      <td>0.2145</td>\n",
       "      <td>0.2605</td>\n",
       "      <td>10</td>\n",
       "    </tr>\n",
       "    <tr>\n",
       "      <th>4174</th>\n",
       "      <td>M</td>\n",
       "      <td>0.600</td>\n",
       "      <td>0.475</td>\n",
       "      <td>0.205</td>\n",
       "      <td>1.1760</td>\n",
       "      <td>0.5255</td>\n",
       "      <td>0.2875</td>\n",
       "      <td>0.3080</td>\n",
       "      <td>9</td>\n",
       "    </tr>\n",
       "    <tr>\n",
       "      <th>4175</th>\n",
       "      <td>F</td>\n",
       "      <td>0.625</td>\n",
       "      <td>0.485</td>\n",
       "      <td>0.150</td>\n",
       "      <td>1.0945</td>\n",
       "      <td>0.5310</td>\n",
       "      <td>0.2610</td>\n",
       "      <td>0.2960</td>\n",
       "      <td>10</td>\n",
       "    </tr>\n",
       "    <tr>\n",
       "      <th>4176</th>\n",
       "      <td>M</td>\n",
       "      <td>0.710</td>\n",
       "      <td>0.555</td>\n",
       "      <td>0.195</td>\n",
       "      <td>1.9485</td>\n",
       "      <td>0.9455</td>\n",
       "      <td>0.3765</td>\n",
       "      <td>0.4950</td>\n",
       "      <td>12</td>\n",
       "    </tr>\n",
       "  </tbody>\n",
       "</table>\n",
       "<p>4177 rows × 9 columns</p>\n",
       "</div>"
      ],
      "text/plain": [
       "     Sex  Length  Diameter  Height  Whole weight  Shucked weight  \\\n",
       "0      M   0.455     0.365   0.095        0.5140          0.2245   \n",
       "1      M   0.350     0.265   0.090        0.2255          0.0995   \n",
       "2      F   0.530     0.420   0.135        0.6770          0.2565   \n",
       "3      M   0.440     0.365   0.125        0.5160          0.2155   \n",
       "4      I   0.330     0.255   0.080        0.2050          0.0895   \n",
       "...   ..     ...       ...     ...           ...             ...   \n",
       "4172   F   0.565     0.450   0.165        0.8870          0.3700   \n",
       "4173   M   0.590     0.440   0.135        0.9660          0.4390   \n",
       "4174   M   0.600     0.475   0.205        1.1760          0.5255   \n",
       "4175   F   0.625     0.485   0.150        1.0945          0.5310   \n",
       "4176   M   0.710     0.555   0.195        1.9485          0.9455   \n",
       "\n",
       "      Viscera weight  Shell weight  Rings  \n",
       "0             0.1010        0.1500     15  \n",
       "1             0.0485        0.0700      7  \n",
       "2             0.1415        0.2100      9  \n",
       "3             0.1140        0.1550     10  \n",
       "4             0.0395        0.0550      7  \n",
       "...              ...           ...    ...  \n",
       "4172          0.2390        0.2490     11  \n",
       "4173          0.2145        0.2605     10  \n",
       "4174          0.2875        0.3080      9  \n",
       "4175          0.2610        0.2960     10  \n",
       "4176          0.3765        0.4950     12  \n",
       "\n",
       "[4177 rows x 9 columns]"
      ]
     },
     "execution_count": 3,
     "metadata": {},
     "output_type": "execute_result"
    }
   ],
   "source": [
    "data"
   ]
  },
  {
   "cell_type": "code",
   "execution_count": 4,
   "id": "f392ab65",
   "metadata": {},
   "outputs": [
    {
     "data": {
      "text/plain": [
       "0       M\n",
       "1       M\n",
       "2       F\n",
       "3       M\n",
       "4       I\n",
       "       ..\n",
       "4172    F\n",
       "4173    M\n",
       "4174    M\n",
       "4175    F\n",
       "4176    M\n",
       "Name: Sex, Length: 4177, dtype: object"
      ]
     },
     "execution_count": 4,
     "metadata": {},
     "output_type": "execute_result"
    }
   ],
   "source": [
    "label = data['Sex']\n",
    "label"
   ]
  },
  {
   "cell_type": "code",
   "execution_count": 5,
   "id": "07933a47",
   "metadata": {},
   "outputs": [
    {
     "data": {
      "text/html": [
       "<div>\n",
       "<style scoped>\n",
       "    .dataframe tbody tr th:only-of-type {\n",
       "        vertical-align: middle;\n",
       "    }\n",
       "\n",
       "    .dataframe tbody tr th {\n",
       "        vertical-align: top;\n",
       "    }\n",
       "\n",
       "    .dataframe thead th {\n",
       "        text-align: right;\n",
       "    }\n",
       "</style>\n",
       "<table border=\"1\" class=\"dataframe\">\n",
       "  <thead>\n",
       "    <tr style=\"text-align: right;\">\n",
       "      <th></th>\n",
       "      <th>Sex</th>\n",
       "      <th>Length</th>\n",
       "      <th>Diameter</th>\n",
       "      <th>Height</th>\n",
       "      <th>Whole weight</th>\n",
       "      <th>Shucked weight</th>\n",
       "      <th>Viscera weight</th>\n",
       "      <th>Shell weight</th>\n",
       "      <th>Rings</th>\n",
       "    </tr>\n",
       "  </thead>\n",
       "  <tbody>\n",
       "    <tr>\n",
       "      <th>0</th>\n",
       "      <td>M</td>\n",
       "      <td>0.455</td>\n",
       "      <td>0.365</td>\n",
       "      <td>0.095</td>\n",
       "      <td>0.5140</td>\n",
       "      <td>0.2245</td>\n",
       "      <td>0.1010</td>\n",
       "      <td>0.150</td>\n",
       "      <td>15</td>\n",
       "    </tr>\n",
       "    <tr>\n",
       "      <th>1</th>\n",
       "      <td>M</td>\n",
       "      <td>0.350</td>\n",
       "      <td>0.265</td>\n",
       "      <td>0.090</td>\n",
       "      <td>0.2255</td>\n",
       "      <td>0.0995</td>\n",
       "      <td>0.0485</td>\n",
       "      <td>0.070</td>\n",
       "      <td>7</td>\n",
       "    </tr>\n",
       "    <tr>\n",
       "      <th>2</th>\n",
       "      <td>F</td>\n",
       "      <td>0.530</td>\n",
       "      <td>0.420</td>\n",
       "      <td>0.135</td>\n",
       "      <td>0.6770</td>\n",
       "      <td>0.2565</td>\n",
       "      <td>0.1415</td>\n",
       "      <td>0.210</td>\n",
       "      <td>9</td>\n",
       "    </tr>\n",
       "    <tr>\n",
       "      <th>3</th>\n",
       "      <td>M</td>\n",
       "      <td>0.440</td>\n",
       "      <td>0.365</td>\n",
       "      <td>0.125</td>\n",
       "      <td>0.5160</td>\n",
       "      <td>0.2155</td>\n",
       "      <td>0.1140</td>\n",
       "      <td>0.155</td>\n",
       "      <td>10</td>\n",
       "    </tr>\n",
       "    <tr>\n",
       "      <th>4</th>\n",
       "      <td>I</td>\n",
       "      <td>0.330</td>\n",
       "      <td>0.255</td>\n",
       "      <td>0.080</td>\n",
       "      <td>0.2050</td>\n",
       "      <td>0.0895</td>\n",
       "      <td>0.0395</td>\n",
       "      <td>0.055</td>\n",
       "      <td>7</td>\n",
       "    </tr>\n",
       "  </tbody>\n",
       "</table>\n",
       "</div>"
      ],
      "text/plain": [
       "  Sex  Length  Diameter  Height  Whole weight  Shucked weight  Viscera weight  \\\n",
       "0   M   0.455     0.365   0.095        0.5140          0.2245          0.1010   \n",
       "1   M   0.350     0.265   0.090        0.2255          0.0995          0.0485   \n",
       "2   F   0.530     0.420   0.135        0.6770          0.2565          0.1415   \n",
       "3   M   0.440     0.365   0.125        0.5160          0.2155          0.1140   \n",
       "4   I   0.330     0.255   0.080        0.2050          0.0895          0.0395   \n",
       "\n",
       "   Shell weight  Rings  \n",
       "0         0.150     15  \n",
       "1         0.070      7  \n",
       "2         0.210      9  \n",
       "3         0.155     10  \n",
       "4         0.055      7  "
      ]
     },
     "execution_count": 5,
     "metadata": {},
     "output_type": "execute_result"
    }
   ],
   "source": [
    "data.head()"
   ]
  },
  {
   "cell_type": "code",
   "execution_count": 6,
   "id": "5863b38d",
   "metadata": {},
   "outputs": [
    {
     "data": {
      "text/plain": [
       "(4177, 9)"
      ]
     },
     "execution_count": 6,
     "metadata": {},
     "output_type": "execute_result"
    }
   ],
   "source": [
    "data.shape"
   ]
  },
  {
   "cell_type": "code",
   "execution_count": 7,
   "id": "f851eb97",
   "metadata": {},
   "outputs": [],
   "source": [
    "del data['Sex'] #Sex 칼럼 삭제"
   ]
  },
  {
   "cell_type": "code",
   "execution_count": 8,
   "id": "e8379765",
   "metadata": {},
   "outputs": [
    {
     "data": {
      "text/html": [
       "<div>\n",
       "<style scoped>\n",
       "    .dataframe tbody tr th:only-of-type {\n",
       "        vertical-align: middle;\n",
       "    }\n",
       "\n",
       "    .dataframe tbody tr th {\n",
       "        vertical-align: top;\n",
       "    }\n",
       "\n",
       "    .dataframe thead th {\n",
       "        text-align: right;\n",
       "    }\n",
       "</style>\n",
       "<table border=\"1\" class=\"dataframe\">\n",
       "  <thead>\n",
       "    <tr style=\"text-align: right;\">\n",
       "      <th></th>\n",
       "      <th>Length</th>\n",
       "      <th>Diameter</th>\n",
       "      <th>Height</th>\n",
       "      <th>Whole weight</th>\n",
       "      <th>Shucked weight</th>\n",
       "      <th>Viscera weight</th>\n",
       "      <th>Shell weight</th>\n",
       "      <th>Rings</th>\n",
       "    </tr>\n",
       "  </thead>\n",
       "  <tbody>\n",
       "    <tr>\n",
       "      <th>0</th>\n",
       "      <td>0.455</td>\n",
       "      <td>0.365</td>\n",
       "      <td>0.095</td>\n",
       "      <td>0.5140</td>\n",
       "      <td>0.2245</td>\n",
       "      <td>0.1010</td>\n",
       "      <td>0.150</td>\n",
       "      <td>15</td>\n",
       "    </tr>\n",
       "    <tr>\n",
       "      <th>1</th>\n",
       "      <td>0.350</td>\n",
       "      <td>0.265</td>\n",
       "      <td>0.090</td>\n",
       "      <td>0.2255</td>\n",
       "      <td>0.0995</td>\n",
       "      <td>0.0485</td>\n",
       "      <td>0.070</td>\n",
       "      <td>7</td>\n",
       "    </tr>\n",
       "    <tr>\n",
       "      <th>2</th>\n",
       "      <td>0.530</td>\n",
       "      <td>0.420</td>\n",
       "      <td>0.135</td>\n",
       "      <td>0.6770</td>\n",
       "      <td>0.2565</td>\n",
       "      <td>0.1415</td>\n",
       "      <td>0.210</td>\n",
       "      <td>9</td>\n",
       "    </tr>\n",
       "    <tr>\n",
       "      <th>3</th>\n",
       "      <td>0.440</td>\n",
       "      <td>0.365</td>\n",
       "      <td>0.125</td>\n",
       "      <td>0.5160</td>\n",
       "      <td>0.2155</td>\n",
       "      <td>0.1140</td>\n",
       "      <td>0.155</td>\n",
       "      <td>10</td>\n",
       "    </tr>\n",
       "    <tr>\n",
       "      <th>4</th>\n",
       "      <td>0.330</td>\n",
       "      <td>0.255</td>\n",
       "      <td>0.080</td>\n",
       "      <td>0.2050</td>\n",
       "      <td>0.0895</td>\n",
       "      <td>0.0395</td>\n",
       "      <td>0.055</td>\n",
       "      <td>7</td>\n",
       "    </tr>\n",
       "  </tbody>\n",
       "</table>\n",
       "</div>"
      ],
      "text/plain": [
       "   Length  Diameter  Height  Whole weight  Shucked weight  Viscera weight  \\\n",
       "0   0.455     0.365   0.095        0.5140          0.2245          0.1010   \n",
       "1   0.350     0.265   0.090        0.2255          0.0995          0.0485   \n",
       "2   0.530     0.420   0.135        0.6770          0.2565          0.1415   \n",
       "3   0.440     0.365   0.125        0.5160          0.2155          0.1140   \n",
       "4   0.330     0.255   0.080        0.2050          0.0895          0.0395   \n",
       "\n",
       "   Shell weight  Rings  \n",
       "0         0.150     15  \n",
       "1         0.070      7  \n",
       "2         0.210      9  \n",
       "3         0.155     10  \n",
       "4         0.055      7  "
      ]
     },
     "execution_count": 8,
     "metadata": {},
     "output_type": "execute_result"
    }
   ],
   "source": [
    "data.head()"
   ]
  },
  {
   "cell_type": "code",
   "execution_count": 9,
   "id": "8dad83d9",
   "metadata": {},
   "outputs": [
    {
     "data": {
      "text/html": [
       "<div>\n",
       "<style scoped>\n",
       "    .dataframe tbody tr th:only-of-type {\n",
       "        vertical-align: middle;\n",
       "    }\n",
       "\n",
       "    .dataframe tbody tr th {\n",
       "        vertical-align: top;\n",
       "    }\n",
       "\n",
       "    .dataframe thead th {\n",
       "        text-align: right;\n",
       "    }\n",
       "</style>\n",
       "<table border=\"1\" class=\"dataframe\">\n",
       "  <thead>\n",
       "    <tr style=\"text-align: right;\">\n",
       "      <th></th>\n",
       "      <th>Length</th>\n",
       "      <th>Diameter</th>\n",
       "      <th>Height</th>\n",
       "      <th>Whole weight</th>\n",
       "      <th>Shucked weight</th>\n",
       "      <th>Viscera weight</th>\n",
       "      <th>Shell weight</th>\n",
       "      <th>Rings</th>\n",
       "    </tr>\n",
       "  </thead>\n",
       "  <tbody>\n",
       "    <tr>\n",
       "      <th>count</th>\n",
       "      <td>4177.000000</td>\n",
       "      <td>4177.000000</td>\n",
       "      <td>4177.000000</td>\n",
       "      <td>4177.000000</td>\n",
       "      <td>4177.000000</td>\n",
       "      <td>4177.000000</td>\n",
       "      <td>4177.000000</td>\n",
       "      <td>4177.000000</td>\n",
       "    </tr>\n",
       "    <tr>\n",
       "      <th>mean</th>\n",
       "      <td>0.523992</td>\n",
       "      <td>0.407881</td>\n",
       "      <td>0.139516</td>\n",
       "      <td>0.828742</td>\n",
       "      <td>0.359367</td>\n",
       "      <td>0.180594</td>\n",
       "      <td>0.238831</td>\n",
       "      <td>9.933684</td>\n",
       "    </tr>\n",
       "    <tr>\n",
       "      <th>std</th>\n",
       "      <td>0.120093</td>\n",
       "      <td>0.099240</td>\n",
       "      <td>0.041827</td>\n",
       "      <td>0.490389</td>\n",
       "      <td>0.221963</td>\n",
       "      <td>0.109614</td>\n",
       "      <td>0.139203</td>\n",
       "      <td>3.224169</td>\n",
       "    </tr>\n",
       "    <tr>\n",
       "      <th>min</th>\n",
       "      <td>0.075000</td>\n",
       "      <td>0.055000</td>\n",
       "      <td>0.000000</td>\n",
       "      <td>0.002000</td>\n",
       "      <td>0.001000</td>\n",
       "      <td>0.000500</td>\n",
       "      <td>0.001500</td>\n",
       "      <td>1.000000</td>\n",
       "    </tr>\n",
       "    <tr>\n",
       "      <th>25%</th>\n",
       "      <td>0.450000</td>\n",
       "      <td>0.350000</td>\n",
       "      <td>0.115000</td>\n",
       "      <td>0.441500</td>\n",
       "      <td>0.186000</td>\n",
       "      <td>0.093500</td>\n",
       "      <td>0.130000</td>\n",
       "      <td>8.000000</td>\n",
       "    </tr>\n",
       "    <tr>\n",
       "      <th>50%</th>\n",
       "      <td>0.545000</td>\n",
       "      <td>0.425000</td>\n",
       "      <td>0.140000</td>\n",
       "      <td>0.799500</td>\n",
       "      <td>0.336000</td>\n",
       "      <td>0.171000</td>\n",
       "      <td>0.234000</td>\n",
       "      <td>9.000000</td>\n",
       "    </tr>\n",
       "    <tr>\n",
       "      <th>75%</th>\n",
       "      <td>0.615000</td>\n",
       "      <td>0.480000</td>\n",
       "      <td>0.165000</td>\n",
       "      <td>1.153000</td>\n",
       "      <td>0.502000</td>\n",
       "      <td>0.253000</td>\n",
       "      <td>0.329000</td>\n",
       "      <td>11.000000</td>\n",
       "    </tr>\n",
       "    <tr>\n",
       "      <th>max</th>\n",
       "      <td>0.815000</td>\n",
       "      <td>0.650000</td>\n",
       "      <td>1.130000</td>\n",
       "      <td>2.825500</td>\n",
       "      <td>1.488000</td>\n",
       "      <td>0.760000</td>\n",
       "      <td>1.005000</td>\n",
       "      <td>29.000000</td>\n",
       "    </tr>\n",
       "  </tbody>\n",
       "</table>\n",
       "</div>"
      ],
      "text/plain": [
       "            Length     Diameter       Height  Whole weight  Shucked weight  \\\n",
       "count  4177.000000  4177.000000  4177.000000   4177.000000     4177.000000   \n",
       "mean      0.523992     0.407881     0.139516      0.828742        0.359367   \n",
       "std       0.120093     0.099240     0.041827      0.490389        0.221963   \n",
       "min       0.075000     0.055000     0.000000      0.002000        0.001000   \n",
       "25%       0.450000     0.350000     0.115000      0.441500        0.186000   \n",
       "50%       0.545000     0.425000     0.140000      0.799500        0.336000   \n",
       "75%       0.615000     0.480000     0.165000      1.153000        0.502000   \n",
       "max       0.815000     0.650000     1.130000      2.825500        1.488000   \n",
       "\n",
       "       Viscera weight  Shell weight        Rings  \n",
       "count     4177.000000   4177.000000  4177.000000  \n",
       "mean         0.180594      0.238831     9.933684  \n",
       "std          0.109614      0.139203     3.224169  \n",
       "min          0.000500      0.001500     1.000000  \n",
       "25%          0.093500      0.130000     8.000000  \n",
       "50%          0.171000      0.234000     9.000000  \n",
       "75%          0.253000      0.329000    11.000000  \n",
       "max          0.760000      1.005000    29.000000  "
      ]
     },
     "execution_count": 9,
     "metadata": {},
     "output_type": "execute_result"
    }
   ],
   "source": [
    "data.describe()"
   ]
  },
  {
   "cell_type": "code",
   "execution_count": 10,
   "id": "89131cd7",
   "metadata": {},
   "outputs": [
    {
     "name": "stdout",
     "output_type": "stream",
     "text": [
      "<class 'pandas.core.frame.DataFrame'>\n",
      "RangeIndex: 4177 entries, 0 to 4176\n",
      "Data columns (total 8 columns):\n",
      " #   Column          Non-Null Count  Dtype  \n",
      "---  ------          --------------  -----  \n",
      " 0   Length          4177 non-null   float64\n",
      " 1   Diameter        4177 non-null   float64\n",
      " 2   Height          4177 non-null   float64\n",
      " 3   Whole weight    4177 non-null   float64\n",
      " 4   Shucked weight  4177 non-null   float64\n",
      " 5   Viscera weight  4177 non-null   float64\n",
      " 6   Shell weight    4177 non-null   float64\n",
      " 7   Rings           4177 non-null   int64  \n",
      "dtypes: float64(7), int64(1)\n",
      "memory usage: 261.2 KB\n"
     ]
    }
   ],
   "source": [
    "data.info()"
   ]
  },
  {
   "cell_type": "code",
   "execution_count": 11,
   "id": "4558ed57",
   "metadata": {},
   "outputs": [],
   "source": [
    "data = (data - np.min(data)) / (np.max(data) - np.min(data))  #minmax 계산구조 활용"
   ]
  },
  {
   "cell_type": "code",
   "execution_count": 12,
   "id": "ee341cbb",
   "metadata": {},
   "outputs": [
    {
     "data": {
      "text/html": [
       "<div>\n",
       "<style scoped>\n",
       "    .dataframe tbody tr th:only-of-type {\n",
       "        vertical-align: middle;\n",
       "    }\n",
       "\n",
       "    .dataframe tbody tr th {\n",
       "        vertical-align: top;\n",
       "    }\n",
       "\n",
       "    .dataframe thead th {\n",
       "        text-align: right;\n",
       "    }\n",
       "</style>\n",
       "<table border=\"1\" class=\"dataframe\">\n",
       "  <thead>\n",
       "    <tr style=\"text-align: right;\">\n",
       "      <th></th>\n",
       "      <th>Length</th>\n",
       "      <th>Diameter</th>\n",
       "      <th>Height</th>\n",
       "      <th>Whole weight</th>\n",
       "      <th>Shucked weight</th>\n",
       "      <th>Viscera weight</th>\n",
       "      <th>Shell weight</th>\n",
       "      <th>Rings</th>\n",
       "    </tr>\n",
       "  </thead>\n",
       "  <tbody>\n",
       "    <tr>\n",
       "      <th>0</th>\n",
       "      <td>0.513514</td>\n",
       "      <td>0.521008</td>\n",
       "      <td>0.084071</td>\n",
       "      <td>0.181335</td>\n",
       "      <td>0.150303</td>\n",
       "      <td>0.132324</td>\n",
       "      <td>0.147982</td>\n",
       "      <td>0.500000</td>\n",
       "    </tr>\n",
       "    <tr>\n",
       "      <th>1</th>\n",
       "      <td>0.371622</td>\n",
       "      <td>0.352941</td>\n",
       "      <td>0.079646</td>\n",
       "      <td>0.079157</td>\n",
       "      <td>0.066241</td>\n",
       "      <td>0.063199</td>\n",
       "      <td>0.068261</td>\n",
       "      <td>0.214286</td>\n",
       "    </tr>\n",
       "    <tr>\n",
       "      <th>2</th>\n",
       "      <td>0.614865</td>\n",
       "      <td>0.613445</td>\n",
       "      <td>0.119469</td>\n",
       "      <td>0.239065</td>\n",
       "      <td>0.171822</td>\n",
       "      <td>0.185648</td>\n",
       "      <td>0.207773</td>\n",
       "      <td>0.285714</td>\n",
       "    </tr>\n",
       "    <tr>\n",
       "      <th>3</th>\n",
       "      <td>0.493243</td>\n",
       "      <td>0.521008</td>\n",
       "      <td>0.110619</td>\n",
       "      <td>0.182044</td>\n",
       "      <td>0.144250</td>\n",
       "      <td>0.149440</td>\n",
       "      <td>0.152965</td>\n",
       "      <td>0.321429</td>\n",
       "    </tr>\n",
       "    <tr>\n",
       "      <th>4</th>\n",
       "      <td>0.344595</td>\n",
       "      <td>0.336134</td>\n",
       "      <td>0.070796</td>\n",
       "      <td>0.071897</td>\n",
       "      <td>0.059516</td>\n",
       "      <td>0.051350</td>\n",
       "      <td>0.053313</td>\n",
       "      <td>0.214286</td>\n",
       "    </tr>\n",
       "  </tbody>\n",
       "</table>\n",
       "</div>"
      ],
      "text/plain": [
       "     Length  Diameter    Height  Whole weight  Shucked weight  Viscera weight  \\\n",
       "0  0.513514  0.521008  0.084071      0.181335        0.150303        0.132324   \n",
       "1  0.371622  0.352941  0.079646      0.079157        0.066241        0.063199   \n",
       "2  0.614865  0.613445  0.119469      0.239065        0.171822        0.185648   \n",
       "3  0.493243  0.521008  0.110619      0.182044        0.144250        0.149440   \n",
       "4  0.344595  0.336134  0.070796      0.071897        0.059516        0.051350   \n",
       "\n",
       "   Shell weight     Rings  \n",
       "0      0.147982  0.500000  \n",
       "1      0.068261  0.214286  \n",
       "2      0.207773  0.285714  \n",
       "3      0.152965  0.321429  \n",
       "4      0.053313  0.214286  "
      ]
     },
     "execution_count": 12,
     "metadata": {},
     "output_type": "execute_result"
    }
   ],
   "source": [
    "data.head()"
   ]
  },
  {
   "cell_type": "code",
   "execution_count": 13,
   "id": "9bc6243e",
   "metadata": {},
   "outputs": [],
   "source": [
    "from sklearn.preprocessing import MinMaxScaler"
   ]
  },
  {
   "cell_type": "code",
   "execution_count": 14,
   "id": "4959b4f3",
   "metadata": {},
   "outputs": [],
   "source": [
    "mMscaler = MinMaxScaler()"
   ]
  },
  {
   "cell_type": "code",
   "execution_count": 15,
   "id": "ae7f323d",
   "metadata": {},
   "outputs": [],
   "source": [
    "#mMscaler.fit(data)   #data를 적용시키는 작업"
   ]
  },
  {
   "cell_type": "code",
   "execution_count": 16,
   "id": "f6efedaa",
   "metadata": {},
   "outputs": [],
   "source": [
    "mMscaled_data = mMscaler.fit_transform(data)  #실제로 데이터 붙이고 변환도 일어남"
   ]
  },
  {
   "cell_type": "code",
   "execution_count": 17,
   "id": "1835e19c",
   "metadata": {},
   "outputs": [
    {
     "data": {
      "text/plain": [
       "numpy.ndarray"
      ]
     },
     "execution_count": 17,
     "metadata": {},
     "output_type": "execute_result"
    }
   ],
   "source": [
    "type(mMscaled_data)"
   ]
  },
  {
   "cell_type": "code",
   "execution_count": 18,
   "id": "be983678",
   "metadata": {
    "scrolled": true
   },
   "outputs": [
    {
     "data": {
      "text/plain": [
       "pandas.core.frame.DataFrame"
      ]
     },
     "execution_count": 18,
     "metadata": {},
     "output_type": "execute_result"
    }
   ],
   "source": [
    "type(data)"
   ]
  },
  {
   "cell_type": "code",
   "execution_count": 19,
   "id": "43fa131a",
   "metadata": {},
   "outputs": [],
   "source": [
    "from sklearn.preprocessing import StandardScaler\n",
    "sdscaler = StandardScaler()"
   ]
  },
  {
   "cell_type": "code",
   "execution_count": 20,
   "id": "57f20fc2",
   "metadata": {},
   "outputs": [],
   "source": [
    "sdscaled_data = sdscaler.fit_transform(data)"
   ]
  },
  {
   "cell_type": "code",
   "execution_count": 21,
   "id": "933eb7ee",
   "metadata": {},
   "outputs": [
    {
     "data": {
      "text/plain": [
       "array([[-0.57455813, -0.43214879, -1.06442415, ..., -0.72621157,\n",
       "        -0.63821689,  1.57154357],\n",
       "       [-1.44898585, -1.439929  , -1.18397831, ..., -1.20522124,\n",
       "        -1.21298732, -0.91001299],\n",
       "       [ 0.05003309,  0.12213032, -0.10799087, ..., -0.35668983,\n",
       "        -0.20713907, -0.28962385],\n",
       "       ...,\n",
       "       [ 0.6329849 ,  0.67640943,  1.56576738, ...,  0.97541324,\n",
       "         0.49695471, -0.28962385],\n",
       "       [ 0.84118198,  0.77718745,  0.25067161, ...,  0.73362741,\n",
       "         0.41073914,  0.02057072],\n",
       "       [ 1.54905203,  1.48263359,  1.32665906, ...,  1.78744868,\n",
       "         1.84048058,  0.64095986]])"
      ]
     },
     "execution_count": 21,
     "metadata": {},
     "output_type": "execute_result"
    }
   ],
   "source": [
    "sdscaled_data"
   ]
  },
  {
   "cell_type": "code",
   "execution_count": 22,
   "id": "6bc3a313",
   "metadata": {},
   "outputs": [],
   "source": [
    "from sklearn.preprocessing import StandardScaler\n",
    "sdscaler = StandardScaler()"
   ]
  },
  {
   "cell_type": "code",
   "execution_count": 23,
   "id": "5c3d6c48",
   "metadata": {},
   "outputs": [],
   "source": [
    "sdscaled_data = sdscaler.fit_transform(data)"
   ]
  },
  {
   "cell_type": "code",
   "execution_count": 24,
   "id": "79d55bb7",
   "metadata": {},
   "outputs": [
    {
     "data": {
      "text/plain": [
       "array([[-0.57455813, -0.43214879, -1.06442415, ..., -0.72621157,\n",
       "        -0.63821689,  1.57154357],\n",
       "       [-1.44898585, -1.439929  , -1.18397831, ..., -1.20522124,\n",
       "        -1.21298732, -0.91001299],\n",
       "       [ 0.05003309,  0.12213032, -0.10799087, ..., -0.35668983,\n",
       "        -0.20713907, -0.28962385],\n",
       "       ...,\n",
       "       [ 0.6329849 ,  0.67640943,  1.56576738, ...,  0.97541324,\n",
       "         0.49695471, -0.28962385],\n",
       "       [ 0.84118198,  0.77718745,  0.25067161, ...,  0.73362741,\n",
       "         0.41073914,  0.02057072],\n",
       "       [ 1.54905203,  1.48263359,  1.32665906, ...,  1.78744868,\n",
       "         1.84048058,  0.64095986]])"
      ]
     },
     "execution_count": 24,
     "metadata": {},
     "output_type": "execute_result"
    }
   ],
   "source": [
    "sdscaled_data"
   ]
  },
  {
   "cell_type": "code",
   "execution_count": 25,
   "id": "8c66d28f",
   "metadata": {},
   "outputs": [],
   "source": [
    "from imblearn.over_sampling import RandomOverSampler\n",
    "from imblearn.under_sampling import RandomUnderSampler "
   ]
  },
  {
   "cell_type": "code",
   "execution_count": 26,
   "id": "30c5f7e8",
   "metadata": {},
   "outputs": [],
   "source": [
    "ros = RandomOverSampler()\n",
    "rus = RandomUnderSampler()"
   ]
  },
  {
   "cell_type": "code",
   "execution_count": 27,
   "id": "747e6492",
   "metadata": {},
   "outputs": [
    {
     "data": {
      "text/plain": [
       "(4177, 8)"
      ]
     },
     "execution_count": 27,
     "metadata": {},
     "output_type": "execute_result"
    }
   ],
   "source": [
    "data.shape"
   ]
  },
  {
   "cell_type": "code",
   "execution_count": 28,
   "id": "f09bfb00",
   "metadata": {},
   "outputs": [
    {
     "data": {
      "text/plain": [
       "(        Length  Diameter    Height  Whole weight  Shucked weight  \\\n",
       " 0     0.513514  0.521008  0.084071      0.181335        0.150303   \n",
       " 1     0.371622  0.352941  0.079646      0.079157        0.066241   \n",
       " 2     0.614865  0.613445  0.119469      0.239065        0.171822   \n",
       " 3     0.493243  0.521008  0.110619      0.182044        0.144250   \n",
       " 4     0.344595  0.336134  0.070796      0.071897        0.059516   \n",
       " ...        ...       ...       ...           ...             ...   \n",
       " 4579  0.621622  0.579832  0.119469      0.212679        0.194015   \n",
       " 4580  0.797297  0.747899  0.150442      0.458828        0.405178   \n",
       " 4581  0.655405  0.621849  0.119469      0.289888        0.249159   \n",
       " 4582  0.722973  0.705882  0.150442      0.367098        0.297579   \n",
       " 4583  0.297297  0.268908  0.061947      0.042146        0.030935   \n",
       " \n",
       "       Viscera weight  Shell weight     Rings  \n",
       " 0           0.132324      0.147982  0.500000  \n",
       " 1           0.063199      0.068261  0.214286  \n",
       " 2           0.185648      0.207773  0.285714  \n",
       " 3           0.149440      0.152965  0.321429  \n",
       " 4           0.051350      0.053313  0.214286  \n",
       " ...              ...           ...       ...  \n",
       " 4579        0.158657      0.151968  0.285714  \n",
       " 4580        0.382488      0.356751  0.285714  \n",
       " 4581        0.242923      0.233682  0.285714  \n",
       " 4582        0.316656      0.317389  0.464286  \n",
       " 4583        0.019750      0.038864  0.178571  \n",
       " \n",
       " [4584 rows x 8 columns],\n",
       " 0       M\n",
       " 1       M\n",
       " 2       F\n",
       " 3       M\n",
       " 4       I\n",
       "        ..\n",
       " 4579    I\n",
       " 4580    I\n",
       " 4581    I\n",
       " 4582    I\n",
       " 4583    I\n",
       " Name: Sex, Length: 4584, dtype: object)"
      ]
     },
     "execution_count": 28,
     "metadata": {},
     "output_type": "execute_result"
    }
   ],
   "source": [
    "ros.fit_resample(data, label)"
   ]
  },
  {
   "cell_type": "code",
   "execution_count": 29,
   "id": "a46e77b1",
   "metadata": {},
   "outputs": [],
   "source": [
    "oversampled_data, oversampled_label = ros.fit_resample(data, label)  #데이터를 불리기\n",
    "oversampled_data = pd.DataFrame(oversampled_data, columns = data.columns)"
   ]
  },
  {
   "cell_type": "code",
   "execution_count": 30,
   "id": "d5ec721e",
   "metadata": {},
   "outputs": [
    {
     "data": {
      "text/html": [
       "<div>\n",
       "<style scoped>\n",
       "    .dataframe tbody tr th:only-of-type {\n",
       "        vertical-align: middle;\n",
       "    }\n",
       "\n",
       "    .dataframe tbody tr th {\n",
       "        vertical-align: top;\n",
       "    }\n",
       "\n",
       "    .dataframe thead th {\n",
       "        text-align: right;\n",
       "    }\n",
       "</style>\n",
       "<table border=\"1\" class=\"dataframe\">\n",
       "  <thead>\n",
       "    <tr style=\"text-align: right;\">\n",
       "      <th></th>\n",
       "      <th>Length</th>\n",
       "      <th>Diameter</th>\n",
       "      <th>Height</th>\n",
       "      <th>Whole weight</th>\n",
       "      <th>Shucked weight</th>\n",
       "      <th>Viscera weight</th>\n",
       "      <th>Shell weight</th>\n",
       "      <th>Rings</th>\n",
       "    </tr>\n",
       "  </thead>\n",
       "  <tbody>\n",
       "    <tr>\n",
       "      <th>0</th>\n",
       "      <td>0.513514</td>\n",
       "      <td>0.521008</td>\n",
       "      <td>0.084071</td>\n",
       "      <td>0.181335</td>\n",
       "      <td>0.150303</td>\n",
       "      <td>0.132324</td>\n",
       "      <td>0.147982</td>\n",
       "      <td>0.500000</td>\n",
       "    </tr>\n",
       "    <tr>\n",
       "      <th>1</th>\n",
       "      <td>0.371622</td>\n",
       "      <td>0.352941</td>\n",
       "      <td>0.079646</td>\n",
       "      <td>0.079157</td>\n",
       "      <td>0.066241</td>\n",
       "      <td>0.063199</td>\n",
       "      <td>0.068261</td>\n",
       "      <td>0.214286</td>\n",
       "    </tr>\n",
       "    <tr>\n",
       "      <th>2</th>\n",
       "      <td>0.614865</td>\n",
       "      <td>0.613445</td>\n",
       "      <td>0.119469</td>\n",
       "      <td>0.239065</td>\n",
       "      <td>0.171822</td>\n",
       "      <td>0.185648</td>\n",
       "      <td>0.207773</td>\n",
       "      <td>0.285714</td>\n",
       "    </tr>\n",
       "    <tr>\n",
       "      <th>3</th>\n",
       "      <td>0.493243</td>\n",
       "      <td>0.521008</td>\n",
       "      <td>0.110619</td>\n",
       "      <td>0.182044</td>\n",
       "      <td>0.144250</td>\n",
       "      <td>0.149440</td>\n",
       "      <td>0.152965</td>\n",
       "      <td>0.321429</td>\n",
       "    </tr>\n",
       "    <tr>\n",
       "      <th>4</th>\n",
       "      <td>0.344595</td>\n",
       "      <td>0.336134</td>\n",
       "      <td>0.070796</td>\n",
       "      <td>0.071897</td>\n",
       "      <td>0.059516</td>\n",
       "      <td>0.051350</td>\n",
       "      <td>0.053313</td>\n",
       "      <td>0.214286</td>\n",
       "    </tr>\n",
       "    <tr>\n",
       "      <th>...</th>\n",
       "      <td>...</td>\n",
       "      <td>...</td>\n",
       "      <td>...</td>\n",
       "      <td>...</td>\n",
       "      <td>...</td>\n",
       "      <td>...</td>\n",
       "      <td>...</td>\n",
       "      <td>...</td>\n",
       "    </tr>\n",
       "    <tr>\n",
       "      <th>4579</th>\n",
       "      <td>0.479730</td>\n",
       "      <td>0.436975</td>\n",
       "      <td>0.084071</td>\n",
       "      <td>0.133168</td>\n",
       "      <td>0.117014</td>\n",
       "      <td>0.104674</td>\n",
       "      <td>0.102641</td>\n",
       "      <td>0.250000</td>\n",
       "    </tr>\n",
       "    <tr>\n",
       "      <th>4580</th>\n",
       "      <td>0.385135</td>\n",
       "      <td>0.361345</td>\n",
       "      <td>0.084071</td>\n",
       "      <td>0.070126</td>\n",
       "      <td>0.048420</td>\n",
       "      <td>0.073074</td>\n",
       "      <td>0.059292</td>\n",
       "      <td>0.250000</td>\n",
       "    </tr>\n",
       "    <tr>\n",
       "      <th>4581</th>\n",
       "      <td>0.560811</td>\n",
       "      <td>0.537815</td>\n",
       "      <td>0.101770</td>\n",
       "      <td>0.162741</td>\n",
       "      <td>0.136516</td>\n",
       "      <td>0.123766</td>\n",
       "      <td>0.141006</td>\n",
       "      <td>0.250000</td>\n",
       "    </tr>\n",
       "    <tr>\n",
       "      <th>4582</th>\n",
       "      <td>0.182432</td>\n",
       "      <td>0.159664</td>\n",
       "      <td>0.048673</td>\n",
       "      <td>0.015761</td>\n",
       "      <td>0.010760</td>\n",
       "      <td>0.015142</td>\n",
       "      <td>0.013453</td>\n",
       "      <td>0.142857</td>\n",
       "    </tr>\n",
       "    <tr>\n",
       "      <th>4583</th>\n",
       "      <td>0.432432</td>\n",
       "      <td>0.453782</td>\n",
       "      <td>0.092920</td>\n",
       "      <td>0.107668</td>\n",
       "      <td>0.073974</td>\n",
       "      <td>0.096116</td>\n",
       "      <td>0.093174</td>\n",
       "      <td>0.250000</td>\n",
       "    </tr>\n",
       "  </tbody>\n",
       "</table>\n",
       "<p>4584 rows × 8 columns</p>\n",
       "</div>"
      ],
      "text/plain": [
       "        Length  Diameter    Height  Whole weight  Shucked weight  \\\n",
       "0     0.513514  0.521008  0.084071      0.181335        0.150303   \n",
       "1     0.371622  0.352941  0.079646      0.079157        0.066241   \n",
       "2     0.614865  0.613445  0.119469      0.239065        0.171822   \n",
       "3     0.493243  0.521008  0.110619      0.182044        0.144250   \n",
       "4     0.344595  0.336134  0.070796      0.071897        0.059516   \n",
       "...        ...       ...       ...           ...             ...   \n",
       "4579  0.479730  0.436975  0.084071      0.133168        0.117014   \n",
       "4580  0.385135  0.361345  0.084071      0.070126        0.048420   \n",
       "4581  0.560811  0.537815  0.101770      0.162741        0.136516   \n",
       "4582  0.182432  0.159664  0.048673      0.015761        0.010760   \n",
       "4583  0.432432  0.453782  0.092920      0.107668        0.073974   \n",
       "\n",
       "      Viscera weight  Shell weight     Rings  \n",
       "0           0.132324      0.147982  0.500000  \n",
       "1           0.063199      0.068261  0.214286  \n",
       "2           0.185648      0.207773  0.285714  \n",
       "3           0.149440      0.152965  0.321429  \n",
       "4           0.051350      0.053313  0.214286  \n",
       "...              ...           ...       ...  \n",
       "4579        0.104674      0.102641  0.250000  \n",
       "4580        0.073074      0.059292  0.250000  \n",
       "4581        0.123766      0.141006  0.250000  \n",
       "4582        0.015142      0.013453  0.142857  \n",
       "4583        0.096116      0.093174  0.250000  \n",
       "\n",
       "[4584 rows x 8 columns]"
      ]
     },
     "execution_count": 30,
     "metadata": {},
     "output_type": "execute_result"
    }
   ],
   "source": [
    "oversampled_data"
   ]
  },
  {
   "cell_type": "code",
   "execution_count": 31,
   "id": "b8c22fb9",
   "metadata": {},
   "outputs": [],
   "source": [
    "undersampled_data, undersampled_label = rus.fit_resample(data, label)"
   ]
  },
  {
   "cell_type": "code",
   "execution_count": 32,
   "id": "3c8bcca6",
   "metadata": {},
   "outputs": [
    {
     "data": {
      "text/plain": [
       "(3921, 8)"
      ]
     },
     "execution_count": 32,
     "metadata": {},
     "output_type": "execute_result"
    }
   ],
   "source": [
    "undersampled_data.shape"
   ]
  },
  {
   "cell_type": "code",
   "execution_count": 33,
   "id": "25094f6b",
   "metadata": {},
   "outputs": [],
   "source": [
    "from sklearn.datasets import make_classification\n",
    "data, label = make_classification(\n",
    "    n_samples=1000,   #샘플의 개수\n",
    "    n_classes=3,   #내가 분류하고자하는 카테고리의 개수 = 3\n",
    "    n_features=2,   #feature를 두개로!\n",
    "    n_repeated=0,  #반복은 하지 않게 0으로 지정\n",
    "    n_informative=2,  # 겹치는 클래스가 얼마나 있는가(디폴트 2)\n",
    "    n_redundant=0,   # 클래스 안의 데이터들이 독자적으로 갈 수 있는 개수(그냥 0 디폴트로 알기)\n",
    "    n_clusters_per_class=1,   #한 그룹에 1개 클래스만 들어가도록 함\n",
    "    weights=[0.05, 0.15, 0.8],  #카테고리 3개의 가중치\n",
    "    class_sep=0.8,   #샘플 데이터가 얼마나 떨어져있는가 설정(숫자가 커지면 클래스 사이의 간격이 벌어짐)\n",
    "    random_state=2022)"
   ]
  },
  {
   "cell_type": "code",
   "execution_count": 34,
   "id": "f6c2b6f7",
   "metadata": {},
   "outputs": [
    {
     "data": {
      "text/plain": [
       "array([[-1.91117507,  0.90864868],\n",
       "       [ 0.23908554, -1.9966176 ],\n",
       "       [ 0.41063734, -1.09651695],\n",
       "       ...,\n",
       "       [-0.74729639, -1.06505046],\n",
       "       [ 0.78391513, -1.6661851 ],\n",
       "       [-0.04871935,  2.48764856]])"
      ]
     },
     "execution_count": 34,
     "metadata": {},
     "output_type": "execute_result"
    }
   ],
   "source": [
    "data"
   ]
  },
  {
   "cell_type": "code",
   "execution_count": 35,
   "id": "d2505e7c",
   "metadata": {},
   "outputs": [
    {
     "data": {
      "text/plain": [
       "(1000, 2)"
      ]
     },
     "execution_count": 35,
     "metadata": {},
     "output_type": "execute_result"
    }
   ],
   "source": [
    "data.shape"
   ]
  },
  {
   "cell_type": "code",
   "execution_count": 36,
   "id": "11afe200",
   "metadata": {},
   "outputs": [
    {
     "data": {
      "text/plain": [
       "<matplotlib.collections.PathCollection at 0x1df08a7f580>"
      ]
     },
     "execution_count": 36,
     "metadata": {},
     "output_type": "execute_result"
    },
    {
     "data": {
      "image/png": "[encoded data removed]",
      "text/plain": [
       "<Figure size 432x288 with 1 Axes>"
      ]
     },
     "metadata": {
      "needs_background": "light"
     },
     "output_type": "display_data"
    }
   ],
   "source": [
    "plt.scatter(data[:,0], data[:,1], c=label, linewidth=1, edgecolor='black')   # x축과 y축 설정, color는 label로 지정(클래스별로 색상 지정)하겠다"
   ]
  },
  {
   "cell_type": "code",
   "execution_count": 37,
   "id": "f3f89239",
   "metadata": {},
   "outputs": [],
   "source": [
    "from imblearn.over_sampling import SMOTE\n",
    "smote = SMOTE(k_neighbors=5) #주변에 5개를 기준"
   ]
  },
  {
   "cell_type": "code",
   "execution_count": 38,
   "id": "1eb71aaf",
   "metadata": {},
   "outputs": [],
   "source": [
    "smoted_data, smoted_label = smote.fit_resample(data, label)"
   ]
  },
  {
   "cell_type": "code",
   "execution_count": 39,
   "id": "92c4ef23",
   "metadata": {},
   "outputs": [
    {
     "data": {
      "text/plain": [
       "(1000, 2)"
      ]
     },
     "execution_count": 39,
     "metadata": {},
     "output_type": "execute_result"
    }
   ],
   "source": [
    "data.shape"
   ]
  },
  {
   "cell_type": "code",
   "execution_count": 40,
   "id": "ad9a6494",
   "metadata": {},
   "outputs": [
    {
     "data": {
      "text/plain": [
       "(2382, 2)"
      ]
     },
     "execution_count": 40,
     "metadata": {},
     "output_type": "execute_result"
    }
   ],
   "source": [
    "smoted_data.shape"
   ]
  },
  {
   "cell_type": "code",
   "execution_count": 41,
   "id": "217a9057",
   "metadata": {},
   "outputs": [
    {
     "name": "stdout",
     "output_type": "stream",
     "text": [
      "원본 데이터의 클래스 비율 \n",
      "0     54\n",
      "1    152\n",
      "2    794\n",
      "dtype: int64\n",
      "\n",
      "SMOTE 결과 \n",
      "0    794\n",
      "1    794\n",
      "2    794\n",
      "dtype: int64\n"
     ]
    }
   ],
   "source": [
    "print('원본 데이터의 클래스 비율 \\n{}'.format(pd.get_dummies(label).sum()))  #label기준으로 안의 데이터를 dummies하고 라벨 기준으로 합계값을 {}에 넣음\n",
    "print('\\nSMOTE 결과 \\n{}'.format(pd.get_dummies(smoted_label).sum()))"
   ]
  },
  {
   "cell_type": "code",
   "execution_count": 42,
   "id": "9a3efc13",
   "metadata": {},
   "outputs": [
    {
     "data": {
      "text/plain": [
       "<matplotlib.collections.PathCollection at 0x1df08b96a00>"
      ]
     },
     "execution_count": 42,
     "metadata": {},
     "output_type": "execute_result"
    },
    {
     "data": {
      "image/png": "[encoded data removed]",
      "text/plain": [
       "<Figure size 432x288 with 1 Axes>"
      ]
     },
     "metadata": {
      "needs_background": "light"
     },
     "output_type": "display_data"
    }
   ],
   "source": [
    "plt.scatter(smoted_data[:,0],smoted_data[:,1],\n",
    "           c=smoted_label, linewidth=1, edgecolor='black')"
   ]
  },
  {
   "cell_type": "code",
   "execution_count": 43,
   "id": "da09a722",
   "metadata": {},
   "outputs": [],
   "source": [
    "from sklearn.datasets import load_digits"
   ]
  },
  {
   "cell_type": "code",
   "execution_count": 44,
   "id": "bf44cb17",
   "metadata": {},
   "outputs": [],
   "source": [
    "digits = load_digits()"
   ]
  },
  {
   "cell_type": "code",
   "execution_count": 45,
   "id": "c031be76",
   "metadata": {},
   "outputs": [
    {
     "name": "stdout",
     "output_type": "stream",
     "text": [
      ".. _digits_dataset:\n",
      "\n",
      "Optical recognition of handwritten digits dataset\n",
      "--------------------------------------------------\n",
      "\n",
      "**Data Set Characteristics:**\n",
      "\n",
      "    :Number of Instances: 1797\n",
      "    :Number of Attributes: 64\n",
      "    :Attribute Information: 8x8 image of integer pixels in the range 0..16.\n",
      "    :Missing Attribute Values: None\n",
      "    :Creator: E. Alpaydin (alpaydin '@' boun.edu.tr)\n",
      "    :Date: July; 1998\n",
      "\n",
      "This is a copy of the test set of the UCI ML hand-written digits datasets\n",
      "https://archive.ics.uci.edu/ml/datasets/Optical+Recognition+of+Handwritten+Digits\n",
      "\n",
      "The data set contains images of hand-written digits: 10 classes where\n",
      "each class refers to a digit.\n",
      "\n",
      "Preprocessing programs made available by NIST were used to extract\n",
      "normalized bitmaps of handwritten digits from a preprinted form. From a\n",
      "total of 43 people, 30 contributed to the training set and different 13\n",
      "to the test set. 32x32 bitmaps are divided into nonoverlapping blocks of\n",
      "4x4 and the number of on pixels are counted in each block. This generates\n",
      "an input matrix of 8x8 where each element is an integer in the range\n",
      "0..16. This reduces dimensionality and gives invariance to small\n",
      "distortions.\n",
      "\n",
      "For info on NIST preprocessing routines, see M. D. Garris, J. L. Blue, G.\n",
      "T. Candela, D. L. Dimmick, J. Geist, P. J. Grother, S. A. Janet, and C.\n",
      "L. Wilson, NIST Form-Based Handprint Recognition System, NISTIR 5469,\n",
      "1994.\n",
      "\n",
      ".. topic:: References\n",
      "\n",
      "  - C. Kaynak (1995) Methods of Combining Multiple Classifiers and Their\n",
      "    Applications to Handwritten Digit Recognition, MSc Thesis, Institute of\n",
      "    Graduate Studies in Science and Engineering, Bogazici University.\n",
      "  - E. Alpaydin, C. Kaynak (1998) Cascading Classifiers, Kybernetika.\n",
      "  - Ken Tang and Ponnuthurai N. Suganthan and Xi Yao and A. Kai Qin.\n",
      "    Linear dimensionalityreduction using relevance weighted LDA. School of\n",
      "    Electrical and Electronic Engineering Nanyang Technological University.\n",
      "    2005.\n",
      "  - Claudio Gentile. A New Approximate Maximal Margin Classification\n",
      "    Algorithm. NIPS. 2000.\n",
      "\n"
     ]
    }
   ],
   "source": [
    "print(digits.DESCR)"
   ]
  },
  {
   "cell_type": "code",
   "execution_count": 46,
   "id": "75143979",
   "metadata": {},
   "outputs": [
    {
     "data": {
      "text/plain": [
       "(1797, 64)"
      ]
     },
     "execution_count": 46,
     "metadata": {},
     "output_type": "execute_result"
    }
   ],
   "source": [
    "digits.data.shape"
   ]
  },
  {
   "cell_type": "code",
   "execution_count": 47,
   "id": "f3f4765d",
   "metadata": {},
   "outputs": [],
   "source": [
    "data = digits.data\n",
    "label = digits.target"
   ]
  },
  {
   "cell_type": "code",
   "execution_count": 48,
   "id": "d455c2d9",
   "metadata": {},
   "outputs": [
    {
     "name": "stdout",
     "output_type": "stream",
     "text": [
      "Label : 0\n"
     ]
    },
    {
     "data": {
      "image/png": "[encoded data removed]",
      "text/plain": [
       "<Figure size 432x288 with 1 Axes>"
      ]
     },
     "metadata": {
      "needs_background": "light"
     },
     "output_type": "display_data"
    }
   ],
   "source": [
    "plt.imshow(data[0].reshape(8,8)) #(1797, 64)를 (1797, 8, 8)로 만듬 / 밑의 데이터는 숫자 0을 나타내는 데이터\n",
    "print('Label : {}'.format(label[0]))"
   ]
  },
  {
   "cell_type": "code",
   "execution_count": 49,
   "id": "76c4bd06",
   "metadata": {},
   "outputs": [],
   "source": [
    "from sklearn.decomposition import PCA\n",
    "pca = PCA(n_components=2)  #data의 주성분을 몇차원으로 줄일 것이냐 → 2차원"
   ]
  },
  {
   "cell_type": "code",
   "execution_count": 50,
   "id": "cd32e179",
   "metadata": {},
   "outputs": [],
   "source": [
    "new_data = pca.fit_transform(data)   #차원 낮추는 기능\n",
    "#차원축소는 어케? : pca 알고리즘을 이용해서 차원을 축소하여 특징을 살림"
   ]
  },
  {
   "cell_type": "code",
   "execution_count": 51,
   "id": "1b0ea896",
   "metadata": {},
   "outputs": [
    {
     "data": {
      "text/plain": [
       "(1797, 64)"
      ]
     },
     "execution_count": 51,
     "metadata": {},
     "output_type": "execute_result"
    }
   ],
   "source": [
    "data.shape"
   ]
  },
  {
   "cell_type": "code",
   "execution_count": 52,
   "id": "f8d2c7f9",
   "metadata": {},
   "outputs": [
    {
     "data": {
      "text/plain": [
       "(1797, 2)"
      ]
     },
     "execution_count": 52,
     "metadata": {},
     "output_type": "execute_result"
    }
   ],
   "source": [
    "new_data.shape"
   ]
  },
  {
   "cell_type": "code",
   "execution_count": 53,
   "id": "8e698320",
   "metadata": {},
   "outputs": [
    {
     "data": {
      "text/plain": [
       "array([-1.2594674 , 21.27488571])"
      ]
     },
     "execution_count": 53,
     "metadata": {},
     "output_type": "execute_result"
    }
   ],
   "source": [
    "new_data[0]"
   ]
  },
  {
   "cell_type": "code",
   "execution_count": 54,
   "id": "f371c543",
   "metadata": {},
   "outputs": [
    {
     "data": {
      "text/plain": [
       "<matplotlib.collections.PathCollection at 0x1df08f55520>"
      ]
     },
     "execution_count": 54,
     "metadata": {},
     "output_type": "execute_result"
    },
    {
     "data": {
      "image/png": "[encoded data removed]",
      "text/plain": [
       "<Figure size 432x288 with 1 Axes>"
      ]
     },
     "metadata": {
      "needs_background": "light"
     },
     "output_type": "display_data"
    }
   ],
   "source": [
    "plt.scatter(new_data[:,0], new_data[:,1], c=label,\n",
    "           linewidth=1, edgecolor='black')"
   ]
  },
  {
   "cell_type": "markdown",
   "id": "a0899f63",
   "metadata": {},
   "source": [
    "### ㅡㅡㅡㅡㅡㅡㅡㅡㅡㅡㅡㅡㅡㅡㅡㅡㅡㅡㅡㅡㅡㅡㅡ"
   ]
  },
  {
   "cell_type": "code",
   "execution_count": 55,
   "id": "7fd1d6b5",
   "metadata": {},
   "outputs": [],
   "source": [
    "data = pd.read_csv('data/abalone.txt', header=None,\n",
    "                  names = abalone_columns)"
   ]
  },
  {
   "cell_type": "code",
   "execution_count": 56,
   "id": "b8ffcd4b",
   "metadata": {},
   "outputs": [],
   "source": [
    "label = data['Sex']"
   ]
  },
  {
   "cell_type": "code",
   "execution_count": 57,
   "id": "f3507868",
   "metadata": {},
   "outputs": [
    {
     "data": {
      "text/plain": [
       "0    M\n",
       "1    M\n",
       "2    F\n",
       "3    M\n",
       "4    I\n",
       "Name: Sex, dtype: object"
      ]
     },
     "execution_count": 57,
     "metadata": {},
     "output_type": "execute_result"
    }
   ],
   "source": [
    "label.head()"
   ]
  },
  {
   "cell_type": "code",
   "execution_count": 58,
   "id": "c94482c1",
   "metadata": {},
   "outputs": [],
   "source": [
    "from sklearn.preprocessing import LabelEncoder\n",
    "le = LabelEncoder()"
   ]
  },
  {
   "cell_type": "code",
   "execution_count": 59,
   "id": "9eafc16a",
   "metadata": {},
   "outputs": [],
   "source": [
    "label_encoded_label = le.fit_transform(label)"
   ]
  },
  {
   "cell_type": "code",
   "execution_count": 60,
   "id": "d8edde03",
   "metadata": {},
   "outputs": [
    {
     "data": {
      "text/plain": [
       "array([2, 2, 0, ..., 2, 0, 2])"
      ]
     },
     "execution_count": 60,
     "metadata": {},
     "output_type": "execute_result"
    }
   ],
   "source": [
    "label_encoded_label  #label인 성별 M, F, I가 0, 1, 2로 변경됨"
   ]
  },
  {
   "cell_type": "code",
   "execution_count": 61,
   "id": "08130b05",
   "metadata": {},
   "outputs": [],
   "source": [
    "result = pd.DataFrame(data = \n",
    "                      np.concatenate([label.values.reshape((-1,1)), \n",
    "                      label_encoded_label.reshape((-1, 1))], axis=1),\n",
    "                        columns=['label', 'label_encoded'])\n",
    "#concatenate : 텍스트 합치기\n",
    "#label_encoded_label.reshape((-1,1)) : 데이터 4177개를 array안에 각각 값이 한개씩 반영됨"
   ]
  },
  {
   "cell_type": "code",
   "execution_count": 62,
   "id": "7f6590f3",
   "metadata": {},
   "outputs": [
    {
     "data": {
      "text/html": [
       "<div>\n",
       "<style scoped>\n",
       "    .dataframe tbody tr th:only-of-type {\n",
       "        vertical-align: middle;\n",
       "    }\n",
       "\n",
       "    .dataframe tbody tr th {\n",
       "        vertical-align: top;\n",
       "    }\n",
       "\n",
       "    .dataframe thead th {\n",
       "        text-align: right;\n",
       "    }\n",
       "</style>\n",
       "<table border=\"1\" class=\"dataframe\">\n",
       "  <thead>\n",
       "    <tr style=\"text-align: right;\">\n",
       "      <th></th>\n",
       "      <th>label</th>\n",
       "      <th>label_encoded</th>\n",
       "    </tr>\n",
       "  </thead>\n",
       "  <tbody>\n",
       "    <tr>\n",
       "      <th>0</th>\n",
       "      <td>M</td>\n",
       "      <td>2</td>\n",
       "    </tr>\n",
       "    <tr>\n",
       "      <th>1</th>\n",
       "      <td>M</td>\n",
       "      <td>2</td>\n",
       "    </tr>\n",
       "    <tr>\n",
       "      <th>2</th>\n",
       "      <td>F</td>\n",
       "      <td>0</td>\n",
       "    </tr>\n",
       "    <tr>\n",
       "      <th>3</th>\n",
       "      <td>M</td>\n",
       "      <td>2</td>\n",
       "    </tr>\n",
       "    <tr>\n",
       "      <th>4</th>\n",
       "      <td>I</td>\n",
       "      <td>1</td>\n",
       "    </tr>\n",
       "    <tr>\n",
       "      <th>...</th>\n",
       "      <td>...</td>\n",
       "      <td>...</td>\n",
       "    </tr>\n",
       "    <tr>\n",
       "      <th>4172</th>\n",
       "      <td>F</td>\n",
       "      <td>0</td>\n",
       "    </tr>\n",
       "    <tr>\n",
       "      <th>4173</th>\n",
       "      <td>M</td>\n",
       "      <td>2</td>\n",
       "    </tr>\n",
       "    <tr>\n",
       "      <th>4174</th>\n",
       "      <td>M</td>\n",
       "      <td>2</td>\n",
       "    </tr>\n",
       "    <tr>\n",
       "      <th>4175</th>\n",
       "      <td>F</td>\n",
       "      <td>0</td>\n",
       "    </tr>\n",
       "    <tr>\n",
       "      <th>4176</th>\n",
       "      <td>M</td>\n",
       "      <td>2</td>\n",
       "    </tr>\n",
       "  </tbody>\n",
       "</table>\n",
       "<p>4177 rows × 2 columns</p>\n",
       "</div>"
      ],
      "text/plain": [
       "     label label_encoded\n",
       "0        M             2\n",
       "1        M             2\n",
       "2        F             0\n",
       "3        M             2\n",
       "4        I             1\n",
       "...    ...           ...\n",
       "4172     F             0\n",
       "4173     M             2\n",
       "4174     M             2\n",
       "4175     F             0\n",
       "4176     M             2\n",
       "\n",
       "[4177 rows x 2 columns]"
      ]
     },
     "execution_count": 62,
     "metadata": {},
     "output_type": "execute_result"
    }
   ],
   "source": [
    "result"
   ]
  },
  {
   "cell_type": "code",
   "execution_count": 63,
   "id": "3f94912f",
   "metadata": {},
   "outputs": [],
   "source": [
    "from sklearn.preprocessing import OneHotEncoder\n",
    "ohe = OneHotEncoder(sparse=False)   #sparse : 디폴트는 True(Matrix로 출력) / False(배열로 출력 → 주로 사용) "
   ]
  },
  {
   "cell_type": "code",
   "execution_count": 64,
   "id": "2be69241",
   "metadata": {},
   "outputs": [],
   "source": [
    "one_hot_encoded = ohe.fit_transform(label.values.reshape(-1, 1))"
   ]
  },
  {
   "cell_type": "code",
   "execution_count": 65,
   "id": "b99d8722",
   "metadata": {},
   "outputs": [
    {
     "name": "stdout",
     "output_type": "stream",
     "text": [
      "[[0. 0. 1.]\n",
      " [0. 0. 1.]\n",
      " [1. 0. 0.]\n",
      " ...\n",
      " [0. 0. 1.]\n",
      " [1. 0. 0.]\n",
      " [0. 0. 1.]]\n"
     ]
    }
   ],
   "source": [
    "print(one_hot_encoded)"
   ]
  },
  {
   "cell_type": "markdown",
   "id": "5e1e2700",
   "metadata": {},
   "source": [
    "K-Means Clustering"
   ]
  },
  {
   "cell_type": "code",
   "execution_count": 66,
   "id": "22b7b2c9",
   "metadata": {},
   "outputs": [],
   "source": [
    "from sklearn.datasets import load_wine\n",
    "wine = load_wine()"
   ]
  },
  {
   "cell_type": "code",
   "execution_count": 67,
   "id": "7a76b187",
   "metadata": {},
   "outputs": [
    {
     "name": "stdout",
     "output_type": "stream",
     "text": [
      ".. _wine_dataset:\n",
      "\n",
      "Wine recognition dataset\n",
      "------------------------\n",
      "\n",
      "**Data Set Characteristics:**\n",
      "\n",
      "    :Number of Instances: 178 (50 in each of three classes)\n",
      "    :Number of Attributes: 13 numeric, predictive attributes and the class\n",
      "    :Attribute Information:\n",
      " \t\t- Alcohol\n",
      " \t\t- Malic acid\n",
      " \t\t- Ash\n",
      "\t\t- Alcalinity of ash  \n",
      " \t\t- Magnesium\n",
      "\t\t- Total phenols\n",
      " \t\t- Flavanoids\n",
      " \t\t- Nonflavanoid phenols\n",
      " \t\t- Proanthocyanins\n",
      "\t\t- Color intensity\n",
      " \t\t- Hue\n",
      " \t\t- OD280/OD315 of diluted wines\n",
      " \t\t- Proline\n",
      "\n",
      "    - class:\n",
      "            - class_0\n",
      "            - class_1\n",
      "            - class_2\n",
      "\t\t\n",
      "    :Summary Statistics:\n",
      "    \n",
      "    ============================= ==== ===== ======= =====\n",
      "                                   Min   Max   Mean     SD\n",
      "    ============================= ==== ===== ======= =====\n",
      "    Alcohol:                      11.0  14.8    13.0   0.8\n",
      "    Malic Acid:                   0.74  5.80    2.34  1.12\n",
      "    Ash:                          1.36  3.23    2.36  0.27\n",
      "    Alcalinity of Ash:            10.6  30.0    19.5   3.3\n",
      "    Magnesium:                    70.0 162.0    99.7  14.3\n",
      "    Total Phenols:                0.98  3.88    2.29  0.63\n",
      "    Flavanoids:                   0.34  5.08    2.03  1.00\n",
      "    Nonflavanoid Phenols:         0.13  0.66    0.36  0.12\n",
      "    Proanthocyanins:              0.41  3.58    1.59  0.57\n",
      "    Colour Intensity:              1.3  13.0     5.1   2.3\n",
      "    Hue:                          0.48  1.71    0.96  0.23\n",
      "    OD280/OD315 of diluted wines: 1.27  4.00    2.61  0.71\n",
      "    Proline:                       278  1680     746   315\n",
      "    ============================= ==== ===== ======= =====\n",
      "\n",
      "    :Missing Attribute Values: None\n",
      "    :Class Distribution: class_0 (59), class_1 (71), class_2 (48)\n",
      "    :Creator: R.A. Fisher\n",
      "    :Donor: Michael Marshall (MARSHALL%PLU@io.arc.nasa.gov)\n",
      "    :Date: July, 1988\n",
      "\n",
      "This is a copy of UCI ML Wine recognition datasets.\n",
      "https://archive.ics.uci.edu/ml/machine-learning-databases/wine/wine.data\n",
      "\n",
      "The data is the results of a chemical analysis of wines grown in the same\n",
      "region in Italy by three different cultivators. There are thirteen different\n",
      "measurements taken for different constituents found in the three types of\n",
      "wine.\n",
      "\n",
      "Original Owners: \n",
      "\n",
      "Forina, M. et al, PARVUS - \n",
      "An Extendible Package for Data Exploration, Classification and Correlation. \n",
      "Institute of Pharmaceutical and Food Analysis and Technologies,\n",
      "Via Brigata Salerno, 16147 Genoa, Italy.\n",
      "\n",
      "Citation:\n",
      "\n",
      "Lichman, M. (2013). UCI Machine Learning Repository\n",
      "[https://archive.ics.uci.edu/ml]. Irvine, CA: University of California,\n",
      "School of Information and Computer Science. \n",
      "\n",
      ".. topic:: References\n",
      "\n",
      "  (1) S. Aeberhard, D. Coomans and O. de Vel, \n",
      "  Comparison of Classifiers in High Dimensional Settings, \n",
      "  Tech. Rep. no. 92-02, (1992), Dept. of Computer Science and Dept. of  \n",
      "  Mathematics and Statistics, James Cook University of North Queensland. \n",
      "  (Also submitted to Technometrics). \n",
      "\n",
      "  The data was used with many others for comparing various \n",
      "  classifiers. The classes are separable, though only RDA \n",
      "  has achieved 100% correct classification. \n",
      "  (RDA : 100%, QDA 99.4%, LDA 98.9%, 1NN 96.1% (z-transformed data)) \n",
      "  (All results using the leave-one-out technique) \n",
      "\n",
      "  (2) S. Aeberhard, D. Coomans and O. de Vel, \n",
      "  \"THE CLASSIFICATION PERFORMANCE OF RDA\" \n",
      "  Tech. Rep. no. 92-01, (1992), Dept. of Computer Science and Dept. of \n",
      "  Mathematics and Statistics, James Cook University of North Queensland. \n",
      "  (Also submitted to Journal of Chemometrics).\n",
      "\n"
     ]
    }
   ],
   "source": [
    "print(wine.DESCR)"
   ]
  },
  {
   "cell_type": "code",
   "execution_count": 68,
   "id": "e2adb33d",
   "metadata": {},
   "outputs": [],
   "source": [
    "data = wine.data\n",
    "label = wine.target\n",
    "columns = wine.feature_names"
   ]
  },
  {
   "cell_type": "code",
   "execution_count": 69,
   "id": "1a31a882",
   "metadata": {
    "scrolled": true
   },
   "outputs": [
    {
     "data": {
      "text/html": [
       "<div>\n",
       "<style scoped>\n",
       "    .dataframe tbody tr th:only-of-type {\n",
       "        vertical-align: middle;\n",
       "    }\n",
       "\n",
       "    .dataframe tbody tr th {\n",
       "        vertical-align: top;\n",
       "    }\n",
       "\n",
       "    .dataframe thead th {\n",
       "        text-align: right;\n",
       "    }\n",
       "</style>\n",
       "<table border=\"1\" class=\"dataframe\">\n",
       "  <thead>\n",
       "    <tr style=\"text-align: right;\">\n",
       "      <th></th>\n",
       "      <th>alcohol</th>\n",
       "      <th>malic_acid</th>\n",
       "      <th>ash</th>\n",
       "      <th>alcalinity_of_ash</th>\n",
       "      <th>magnesium</th>\n",
       "      <th>total_phenols</th>\n",
       "      <th>flavanoids</th>\n",
       "      <th>nonflavanoid_phenols</th>\n",
       "      <th>proanthocyanins</th>\n",
       "      <th>color_intensity</th>\n",
       "      <th>hue</th>\n",
       "      <th>od280/od315_of_diluted_wines</th>\n",
       "      <th>proline</th>\n",
       "    </tr>\n",
       "  </thead>\n",
       "  <tbody>\n",
       "    <tr>\n",
       "      <th>0</th>\n",
       "      <td>14.23</td>\n",
       "      <td>1.71</td>\n",
       "      <td>2.43</td>\n",
       "      <td>15.6</td>\n",
       "      <td>127.0</td>\n",
       "      <td>2.80</td>\n",
       "      <td>3.06</td>\n",
       "      <td>0.28</td>\n",
       "      <td>2.29</td>\n",
       "      <td>5.64</td>\n",
       "      <td>1.04</td>\n",
       "      <td>3.92</td>\n",
       "      <td>1065.0</td>\n",
       "    </tr>\n",
       "    <tr>\n",
       "      <th>1</th>\n",
       "      <td>13.20</td>\n",
       "      <td>1.78</td>\n",
       "      <td>2.14</td>\n",
       "      <td>11.2</td>\n",
       "      <td>100.0</td>\n",
       "      <td>2.65</td>\n",
       "      <td>2.76</td>\n",
       "      <td>0.26</td>\n",
       "      <td>1.28</td>\n",
       "      <td>4.38</td>\n",
       "      <td>1.05</td>\n",
       "      <td>3.40</td>\n",
       "      <td>1050.0</td>\n",
       "    </tr>\n",
       "    <tr>\n",
       "      <th>2</th>\n",
       "      <td>13.16</td>\n",
       "      <td>2.36</td>\n",
       "      <td>2.67</td>\n",
       "      <td>18.6</td>\n",
       "      <td>101.0</td>\n",
       "      <td>2.80</td>\n",
       "      <td>3.24</td>\n",
       "      <td>0.30</td>\n",
       "      <td>2.81</td>\n",
       "      <td>5.68</td>\n",
       "      <td>1.03</td>\n",
       "      <td>3.17</td>\n",
       "      <td>1185.0</td>\n",
       "    </tr>\n",
       "    <tr>\n",
       "      <th>3</th>\n",
       "      <td>14.37</td>\n",
       "      <td>1.95</td>\n",
       "      <td>2.50</td>\n",
       "      <td>16.8</td>\n",
       "      <td>113.0</td>\n",
       "      <td>3.85</td>\n",
       "      <td>3.49</td>\n",
       "      <td>0.24</td>\n",
       "      <td>2.18</td>\n",
       "      <td>7.80</td>\n",
       "      <td>0.86</td>\n",
       "      <td>3.45</td>\n",
       "      <td>1480.0</td>\n",
       "    </tr>\n",
       "    <tr>\n",
       "      <th>4</th>\n",
       "      <td>13.24</td>\n",
       "      <td>2.59</td>\n",
       "      <td>2.87</td>\n",
       "      <td>21.0</td>\n",
       "      <td>118.0</td>\n",
       "      <td>2.80</td>\n",
       "      <td>2.69</td>\n",
       "      <td>0.39</td>\n",
       "      <td>1.82</td>\n",
       "      <td>4.32</td>\n",
       "      <td>1.04</td>\n",
       "      <td>2.93</td>\n",
       "      <td>735.0</td>\n",
       "    </tr>\n",
       "  </tbody>\n",
       "</table>\n",
       "</div>"
      ],
      "text/plain": [
       "   alcohol  malic_acid   ash  alcalinity_of_ash  magnesium  total_phenols  \\\n",
       "0    14.23        1.71  2.43               15.6      127.0           2.80   \n",
       "1    13.20        1.78  2.14               11.2      100.0           2.65   \n",
       "2    13.16        2.36  2.67               18.6      101.0           2.80   \n",
       "3    14.37        1.95  2.50               16.8      113.0           3.85   \n",
       "4    13.24        2.59  2.87               21.0      118.0           2.80   \n",
       "\n",
       "   flavanoids  nonflavanoid_phenols  proanthocyanins  color_intensity   hue  \\\n",
       "0        3.06                  0.28             2.29             5.64  1.04   \n",
       "1        2.76                  0.26             1.28             4.38  1.05   \n",
       "2        3.24                  0.30             2.81             5.68  1.03   \n",
       "3        3.49                  0.24             2.18             7.80  0.86   \n",
       "4        2.69                  0.39             1.82             4.32  1.04   \n",
       "\n",
       "   od280/od315_of_diluted_wines  proline  \n",
       "0                          3.92   1065.0  \n",
       "1                          3.40   1050.0  \n",
       "2                          3.17   1185.0  \n",
       "3                          3.45   1480.0  \n",
       "4                          2.93    735.0  "
      ]
     },
     "execution_count": 69,
     "metadata": {},
     "output_type": "execute_result"
    }
   ],
   "source": [
    "data = pd.DataFrame(data, columns = columns)\n",
    "data.head()"
   ]
  },
  {
   "cell_type": "code",
   "execution_count": 70,
   "id": "665ce44f",
   "metadata": {},
   "outputs": [
    {
     "data": {
      "text/plain": [
       "(178, 13)"
      ]
     },
     "execution_count": 70,
     "metadata": {},
     "output_type": "execute_result"
    }
   ],
   "source": [
    "data.shape"
   ]
  },
  {
   "cell_type": "code",
   "execution_count": 71,
   "id": "766199b1",
   "metadata": {},
   "outputs": [],
   "source": [
    "from sklearn.preprocessing import MinMaxScaler\n",
    "scaler = MinMaxScaler()\n",
    "data = scaler.fit_transform(data)"
   ]
  },
  {
   "cell_type": "code",
   "execution_count": 72,
   "id": "6ce36f93",
   "metadata": {},
   "outputs": [
    {
     "data": {
      "text/plain": [
       "array([[0.84210526, 0.1916996 , 0.57219251, ..., 0.45528455, 0.97069597,\n",
       "        0.56134094],\n",
       "       [0.57105263, 0.2055336 , 0.4171123 , ..., 0.46341463, 0.78021978,\n",
       "        0.55064194],\n",
       "       [0.56052632, 0.3201581 , 0.70053476, ..., 0.44715447, 0.6959707 ,\n",
       "        0.64693295],\n",
       "       ...,\n",
       "       [0.58947368, 0.69960474, 0.48128342, ..., 0.08943089, 0.10622711,\n",
       "        0.39728959],\n",
       "       [0.56315789, 0.36561265, 0.54010695, ..., 0.09756098, 0.12820513,\n",
       "        0.40085592],\n",
       "       [0.81578947, 0.66403162, 0.73796791, ..., 0.10569106, 0.12087912,\n",
       "        0.20114123]])"
      ]
     },
     "execution_count": 72,
     "metadata": {},
     "output_type": "execute_result"
    }
   ],
   "source": [
    "data"
   ]
  },
  {
   "cell_type": "code",
   "execution_count": 73,
   "id": "90ebda46",
   "metadata": {},
   "outputs": [],
   "source": [
    "from sklearn.decomposition import PCA\n",
    "pca = PCA(n_components=2)\n",
    "data = pca.fit_transform(data)"
   ]
  },
  {
   "cell_type": "code",
   "execution_count": 74,
   "id": "7c79cc2b",
   "metadata": {},
   "outputs": [
    {
     "data": {
      "text/plain": [
       "(178, 2)"
      ]
     },
     "execution_count": 74,
     "metadata": {},
     "output_type": "execute_result"
    }
   ],
   "source": [
    "data.shape"
   ]
  },
  {
   "cell_type": "code",
   "execution_count": 75,
   "id": "584ebe27",
   "metadata": {},
   "outputs": [],
   "source": [
    "from sklearn.cluster import KMeans\n",
    "kmeans = KMeans(n_clusters=3)"
   ]
  },
  {
   "cell_type": "code",
   "execution_count": 76,
   "id": "6649c0b8",
   "metadata": {},
   "outputs": [
    {
     "data": {
      "text/plain": [
       "KMeans(n_clusters=3)"
      ]
     },
     "execution_count": 76,
     "metadata": {},
     "output_type": "execute_result"
    }
   ],
   "source": [
    "kmeans.fit(data)"
   ]
  },
  {
   "cell_type": "code",
   "execution_count": 77,
   "id": "197d1c74",
   "metadata": {},
   "outputs": [],
   "source": [
    "cluster = kmeans.predict(data)"
   ]
  },
  {
   "cell_type": "code",
   "execution_count": 78,
   "id": "7e8125e0",
   "metadata": {},
   "outputs": [
    {
     "data": {
      "text/plain": [
       "<matplotlib.collections.PathCollection at 0x1df08d8ddf0>"
      ]
     },
     "execution_count": 78,
     "metadata": {},
     "output_type": "execute_result"
    },
    {
     "data": {
      "image/png": "[encoded data removed]",
      "text/plain": [
       "<Figure size 432x288 with 1 Axes>"
      ]
     },
     "metadata": {
      "needs_background": "light"
     },
     "output_type": "display_data"
    }
   ],
   "source": [
    "plt.scatter(data[:,0], data[:,1], c= cluster,\n",
    "           linewidth=1, edgecolor='black')"
   ]
  },
  {
   "cell_type": "markdown",
   "id": "e187fbbb",
   "metadata": {},
   "source": [
    "https://github.com/KoreaEVa/AI 참고(김영욱강사님 github)\n",
    "https://www.youtube.com/results?search_query=%EC%9D%B4%EC%88%98%EC%95%88%EC%BB%B4%ED%93%A8%ED%84%B0 참고(딥러닝 관련 강좌)"
   ]
  },
  {
   "cell_type": "markdown",
   "id": "6272b08f",
   "metadata": {},
   "source": [
    "Hierarchical Clustering"
   ]
  },
  {
   "cell_type": "markdown",
   "id": "3a87e1d9",
   "metadata": {},
   "source": [
    "https://book.interpark.com/product/BookDisplay.do?_method=detail&sc.prdNo=303260973&gclid=CjwKCAjwur-SBhB6EiwA5sKtjpl0AFSX2CvwZNv0X5k_9Mspz9sesD8OoSp4I1qfDdt1U7IxktTEsBoCVtUQAvD_BwE"
   ]
  },
  {
   "cell_type": "code",
   "execution_count": 79,
   "id": "75f8c8e7",
   "metadata": {},
   "outputs": [],
   "source": [
    "import numpy as np\n",
    "import pandas as pd\n",
    "import matplotlib.pyplot as plt"
   ]
  },
  {
   "cell_type": "code",
   "execution_count": 80,
   "id": "30593207",
   "metadata": {},
   "outputs": [
    {
     "name": "stdout",
     "output_type": "stream",
     "text": [
      "Requirement already satisfied: mglearn in c:\\users\\sec\\anaconda3\\lib\\site-packages (0.1.9)\n",
      "Requirement already satisfied: cycler in c:\\users\\sec\\anaconda3\\lib\\site-packages (from mglearn) (0.10.0)\n",
      "Requirement already satisfied: numpy in c:\\users\\sec\\anaconda3\\lib\\site-packages (from mglearn) (1.20.3)\n",
      "Requirement already satisfied: pandas in c:\\users\\sec\\anaconda3\\lib\\site-packages (from mglearn) (1.3.4)\n",
      "Requirement already satisfied: pillow in c:\\users\\sec\\anaconda3\\lib\\site-packages (from mglearn) (8.4.0)\n",
      "Requirement already satisfied: imageio in c:\\users\\sec\\anaconda3\\lib\\site-packages (from mglearn) (2.9.0)\n",
      "Requirement already satisfied: scikit-learn in c:\\users\\sec\\anaconda3\\lib\\site-packages (from mglearn) (1.0.2)\n",
      "Requirement already satisfied: joblib in c:\\users\\sec\\anaconda3\\lib\\site-packages (from mglearn) (1.1.0)\n",
      "Requirement already satisfied: matplotlib in c:\\users\\sec\\anaconda3\\lib\\site-packages (from mglearn) (3.4.3)\n",
      "Requirement already satisfied: six in c:\\users\\sec\\anaconda3\\lib\\site-packages (from cycler->mglearn) (1.16.0)\n",
      "Requirement already satisfied: pyparsing>=2.2.1 in c:\\users\\sec\\anaconda3\\lib\\site-packages (from matplotlib->mglearn) (3.0.4)\n",
      "Requirement already satisfied: kiwisolver>=1.0.1 in c:\\users\\sec\\anaconda3\\lib\\site-packages (from matplotlib->mglearn) (1.3.1)\n",
      "Requirement already satisfied: python-dateutil>=2.7 in c:\\users\\sec\\anaconda3\\lib\\site-packages (from matplotlib->mglearn) (2.8.2)\n",
      "Requirement already satisfied: pytz>=2017.3 in c:\\users\\sec\\anaconda3\\lib\\site-packages (from pandas->mglearn) (2021.3)\n",
      "Requirement already satisfied: threadpoolctl>=2.0.0 in c:\\users\\sec\\anaconda3\\lib\\site-packages (from scikit-learn->mglearn) (2.2.0)\n",
      "Requirement already satisfied: scipy>=1.1.0 in c:\\users\\sec\\anaconda3\\lib\\site-packages (from scikit-learn->mglearn) (1.7.1)\n"
     ]
    }
   ],
   "source": [
    "!pip install mglearn"
   ]
  },
  {
   "cell_type": "code",
   "execution_count": 81,
   "id": "25366bf0",
   "metadata": {
    "scrolled": true
   },
   "outputs": [],
   "source": [
    "import mglearn"
   ]
  },
  {
   "cell_type": "code",
   "execution_count": 82,
   "id": "8797f0fc",
   "metadata": {},
   "outputs": [
    {
     "name": "stderr",
     "output_type": "stream",
     "text": [
      "C:\\Users\\sec\\anaconda3\\lib\\site-packages\\sklearn\\utils\\deprecation.py:87: FutureWarning: Function make_blobs is deprecated; Please import make_blobs directly from scikit-learn\n",
      "  warnings.warn(msg, category=FutureWarning)\n"
     ]
    },
    {
     "name": "stdout",
     "output_type": "stream",
     "text": [
      "(26, 2)\n"
     ]
    },
    {
     "data": {
      "image/png": "[encoded data removed]",
      "text/plain": [
       "<Figure size 432x288 with 1 Axes>"
      ]
     },
     "metadata": {
      "needs_background": "light"
     },
     "output_type": "display_data"
    }
   ],
   "source": [
    "# 지도 학습 알고리즘\n",
    "\n",
    "X, y = mglearn.datasets.make_forge()\n",
    "\n",
    "mglearn.discrete_scatter(X[:,0], X[:,1], y)   #삼각형 점을 그릴 수 있는 method\n",
    "plt.xlabel('First')\n",
    "plt.ylabel('Second')\n",
    "plt.legend()\n",
    "print(X.shape)"
   ]
  },
  {
   "cell_type": "code",
   "execution_count": 83,
   "id": "e9858cd2",
   "metadata": {},
   "outputs": [
    {
     "name": "stdout",
     "output_type": "stream",
     "text": [
      "(40, 1)\n"
     ]
    },
    {
     "data": {
      "image/png": "[encoded data removed]",
      "text/plain": [
       "<Figure size 432x288 with 1 Axes>"
      ]
     },
     "metadata": {
      "needs_background": "light"
     },
     "output_type": "display_data"
    }
   ],
   "source": [
    "X, y = mglearn.datasets.make_wave(n_samples=40)   #n_samples=40 : 샘플의 개수 40개\n",
    "\n",
    "plt.plot(X, y, 'o')\n",
    "plt.ylim(-3,3)\n",
    "\n",
    "plt.xlabel('Feature')\n",
    "plt.ylabel('Label')\n",
    "print(X.shape)"
   ]
  },
  {
   "cell_type": "code",
   "execution_count": 84,
   "id": "3111544e",
   "metadata": {},
   "outputs": [
    {
     "name": "stdout",
     "output_type": "stream",
     "text": [
      "dict_keys(['data', 'target', 'frame', 'target_names', 'DESCR', 'feature_names', 'filename', 'data_module'])\n"
     ]
    }
   ],
   "source": [
    "from sklearn.datasets import load_breast_cancer\n",
    "cancer = load_breast_cancer()\n",
    "print(cancer.keys())"
   ]
  },
  {
   "cell_type": "code",
   "execution_count": 85,
   "id": "97216819",
   "metadata": {},
   "outputs": [
    {
     "data": {
      "text/plain": [
       "(569, 30)"
      ]
     },
     "execution_count": 85,
     "metadata": {},
     "output_type": "execute_result"
    }
   ],
   "source": [
    "cancer.data.shape"
   ]
  },
  {
   "cell_type": "code",
   "execution_count": 86,
   "id": "8d3490a0",
   "metadata": {},
   "outputs": [
    {
     "data": {
      "text/plain": [
       "array(['mean radius', 'mean texture', 'mean perimeter', 'mean area',\n",
       "       'mean smoothness', 'mean compactness', 'mean concavity',\n",
       "       'mean concave points', 'mean symmetry', 'mean fractal dimension',\n",
       "       'radius error', 'texture error', 'perimeter error', 'area error',\n",
       "       'smoothness error', 'compactness error', 'concavity error',\n",
       "       'concave points error', 'symmetry error',\n",
       "       'fractal dimension error', 'worst radius', 'worst texture',\n",
       "       'worst perimeter', 'worst area', 'worst smoothness',\n",
       "       'worst compactness', 'worst concavity', 'worst concave points',\n",
       "       'worst symmetry', 'worst fractal dimension'], dtype='<U23')"
      ]
     },
     "execution_count": 86,
     "metadata": {},
     "output_type": "execute_result"
    }
   ],
   "source": [
    "#cancer.target   #malignant : 양성 / #benign : 음성\n",
    "#cancer.target_names\n",
    "cancer.feature_names"
   ]
  },
  {
   "cell_type": "code",
   "execution_count": 87,
   "id": "d3b63274",
   "metadata": {},
   "outputs": [
    {
     "name": "stderr",
     "output_type": "stream",
     "text": [
      "C:\\Users\\sec\\anaconda3\\lib\\site-packages\\sklearn\\utils\\deprecation.py:87: FutureWarning: Function make_blobs is deprecated; Please import make_blobs directly from scikit-learn\n",
      "  warnings.warn(msg, category=FutureWarning)\n"
     ]
    },
    {
     "data": {
      "image/png": "[encoded data removed]",
      "text/plain": [
       "<Figure size 432x288 with 1 Axes>"
      ]
     },
     "metadata": {
      "needs_background": "light"
     },
     "output_type": "display_data"
    }
   ],
   "source": [
    "mglearn.plots.plot_knn_classification(n_neighbors=1)"
   ]
  },
  {
   "cell_type": "code",
   "execution_count": 88,
   "id": "93bebd01",
   "metadata": {},
   "outputs": [
    {
     "name": "stderr",
     "output_type": "stream",
     "text": [
      "C:\\Users\\sec\\anaconda3\\lib\\site-packages\\sklearn\\utils\\deprecation.py:87: FutureWarning: Function make_blobs is deprecated; Please import make_blobs directly from scikit-learn\n",
      "  warnings.warn(msg, category=FutureWarning)\n"
     ]
    },
    {
     "data": {
      "image/png": "[encoded data removed]",
      "text/plain": [
       "<Figure size 432x288 with 1 Axes>"
      ]
     },
     "metadata": {
      "needs_background": "light"
     },
     "output_type": "display_data"
    }
   ],
   "source": [
    "mglearn.plots.plot_knn_classification(n_neighbors=3)"
   ]
  },
  {
   "cell_type": "code",
   "execution_count": 89,
   "id": "431ecb9b",
   "metadata": {},
   "outputs": [
    {
     "name": "stderr",
     "output_type": "stream",
     "text": [
      "C:\\Users\\sec\\anaconda3\\lib\\site-packages\\sklearn\\utils\\deprecation.py:87: FutureWarning: Function make_blobs is deprecated; Please import make_blobs directly from scikit-learn\n",
      "  warnings.warn(msg, category=FutureWarning)\n"
     ]
    }
   ],
   "source": [
    "from sklearn.model_selection import train_test_split\n",
    "X, y = mglearn.datasets.make_forge()\n",
    "\n",
    "X_train, X_test, y_train, y_test = train_test_split(X, y, random_state=0)"
   ]
  },
  {
   "cell_type": "code",
   "execution_count": 90,
   "id": "5dde4e2b",
   "metadata": {},
   "outputs": [],
   "source": [
    "from sklearn.neighbors import KNeighborsClassifier\n",
    "clf = KNeighborsClassifier(n_neighbors=5)"
   ]
  },
  {
   "cell_type": "code",
   "execution_count": 91,
   "id": "57b2f45c",
   "metadata": {},
   "outputs": [
    {
     "data": {
      "text/plain": [
       "KNeighborsClassifier()"
      ]
     },
     "execution_count": 91,
     "metadata": {},
     "output_type": "execute_result"
    }
   ],
   "source": [
    "clf.fit(X_train, y_train)"
   ]
  },
  {
   "cell_type": "code",
   "execution_count": 92,
   "id": "598817c7",
   "metadata": {},
   "outputs": [
    {
     "data": {
      "text/plain": [
       "array([1, 0, 1, 0, 1, 0, 0])"
      ]
     },
     "execution_count": 92,
     "metadata": {},
     "output_type": "execute_result"
    }
   ],
   "source": [
    "clf.predict(X_test)"
   ]
  },
  {
   "cell_type": "code",
   "execution_count": 93,
   "id": "97af4467",
   "metadata": {},
   "outputs": [
    {
     "data": {
      "text/plain": [
       "0.8571428571428571"
      ]
     },
     "execution_count": 93,
     "metadata": {},
     "output_type": "execute_result"
    }
   ],
   "source": [
    "clf.score(X_test, y_test)"
   ]
  },
  {
   "cell_type": "code",
   "execution_count": 94,
   "id": "3b00b980",
   "metadata": {},
   "outputs": [
    {
     "data": {
      "image/png": "[encoded data removed]",
      "text/plain": [
       "<Figure size 720x216 with 3 Axes>"
      ]
     },
     "metadata": {},
     "output_type": "display_data"
    }
   ],
   "source": [
    "fig, axes = plt.subplots(1,3, figsize=(10,3))  # axes : 축 / axis : 중심축\n",
    "for n_neighbors, ax in zip([1,3,9], axes):   #zip : \n",
    "    \n",
    "    clf = KNeighborsClassifier(n_neighbors=n_neighbors)\n",
    "    clf.fit(X, y)\n",
    "    \n",
    "    mglearn.plots.plot_2d_separator(clf, X, fill=True, eps=0.5, ax=ax,\n",
    "                                   alpha=0.4)   #2차원으로 쪼개진 것을 보여주는 것\n",
    "    mglearn.discrete_scatter(X[:,0], X[:,1], y, ax=ax)"
   ]
  },
  {
   "cell_type": "code",
   "execution_count": 95,
   "id": "5eda6975",
   "metadata": {},
   "outputs": [],
   "source": [
    "from sklearn import neighbors\n",
    "from sklearn.datasets import load_breast_cancer\n",
    "\n",
    "cancer = load_breast_cancer()\n",
    "X_train, X_test, y_train, y_test = train_test_split(\n",
    "    cancer.data, cancer.target, random_state=66)\n",
    "\n",
    "training_accuracy = []\n",
    "test_accuracy = []\n",
    "\n",
    "neighbors_settings = range(1,11) # 1부터 11까지의 리스트 만들기\n",
    "\n",
    "for n_neighbors in neighbors_settings:\n",
    "  clf = KNeighborsClassifier(n_neighbors=n_neighbors)\n",
    "  clf.fit(X_train, y_train)\n",
    "\n",
    "  training_accuracy.append(clf.score(X_train, y_train))  #학습훈련 정확도\n",
    "  test_accuracy.append(clf.score(X_test, y_test))  #테스트 정확도\n"
   ]
  },
  {
   "cell_type": "code",
   "execution_count": 96,
   "id": "3ded27cc",
   "metadata": {},
   "outputs": [
    {
     "name": "stdout",
     "output_type": "stream",
     "text": [
      "[1.0, 0.9671361502347418, 0.9671361502347418, 0.9553990610328639, 0.9483568075117371, 0.9483568075117371, 0.9436619718309859, 0.9413145539906104, 0.9460093896713615, 0.9413145539906104]\n",
      "[0.9230769230769231, 0.9020979020979021, 0.9230769230769231, 0.916083916083916, 0.916083916083916, 0.916083916083916, 0.9090909090909091, 0.9090909090909091, 0.9090909090909091, 0.9090909090909091]\n"
     ]
    }
   ],
   "source": [
    "print(training_accuracy)\n",
    "print(test_accuracy)"
   ]
  },
  {
   "cell_type": "code",
   "execution_count": 97,
   "id": "ccd6abe3",
   "metadata": {},
   "outputs": [
    {
     "data": {
      "text/plain": [
       "Text(0, 0.5, 'Accuracy')"
      ]
     },
     "execution_count": 97,
     "metadata": {},
     "output_type": "execute_result"
    },
    {
     "data": {
      "image/png": "[encoded data removed]",
      "text/plain": [
       "<Figure size 432x288 with 1 Axes>"
      ]
     },
     "metadata": {
      "needs_background": "light"
     },
     "output_type": "display_data"
    }
   ],
   "source": [
    "plt.plot(neighbors_settings, training_accuracy, label='training accuracy')    #x축은 최근접의 갯수 / y는 정확도 → 최근접 갯수에 따라 학습, 테스트 정확도가 나오게\n",
    "plt.plot(neighbors_settings, test_accuracy, label='test accuracy')\n",
    "plt.legend()\n",
    "plt.xlabel('n neighbors')\n",
    "plt.ylabel('Accuracy')"
   ]
  },
  {
   "cell_type": "code",
   "execution_count": 98,
   "id": "4651946f",
   "metadata": {},
   "outputs": [
    {
     "data": {
      "image/png": "[encoded data removed]",
      "text/plain": [
       "<Figure size 720x432 with 1 Axes>"
      ]
     },
     "metadata": {
      "needs_background": "light"
     },
     "output_type": "display_data"
    }
   ],
   "source": [
    "mglearn.plots.plot_knn_regression(n_neighbors=1)"
   ]
  },
  {
   "cell_type": "code",
   "execution_count": 99,
   "id": "232467b6",
   "metadata": {},
   "outputs": [
    {
     "data": {
      "image/png": "[encoded data removed]",
      "text/plain": [
       "<Figure size 720x432 with 1 Axes>"
      ]
     },
     "metadata": {
      "needs_background": "light"
     },
     "output_type": "display_data"
    }
   ],
   "source": [
    "mglearn.plots.plot_knn_regression(n_neighbors=3)"
   ]
  },
  {
   "cell_type": "code",
   "execution_count": 100,
   "id": "1354cb8a",
   "metadata": {},
   "outputs": [
    {
     "data": {
      "text/plain": [
       "KNeighborsRegressor(n_neighbors=3)"
      ]
     },
     "execution_count": 100,
     "metadata": {},
     "output_type": "execute_result"
    }
   ],
   "source": [
    "from sklearn.neighbors import KNeighborsRegressor\n",
    "\n",
    "x, y = mglearn.datasets.make_wave(n_samples=40)\n",
    "\n",
    "X_train, X_test, y_train, y_test = train_test_split(x, y, random_state=0)\n",
    "\n",
    "reg = KNeighborsRegressor(n_neighbors=3)\n",
    "reg.fit(X_train, y_train)"
   ]
  },
  {
   "cell_type": "code",
   "execution_count": 101,
   "id": "8033341d",
   "metadata": {},
   "outputs": [
    {
     "data": {
      "text/plain": [
       "0.8344172446249605"
      ]
     },
     "execution_count": 101,
     "metadata": {},
     "output_type": "execute_result"
    }
   ],
   "source": [
    "reg.predict(X_test)\n",
    "reg.score(X_test, y_test)"
   ]
  },
  {
   "cell_type": "code",
   "execution_count": 102,
   "id": "66f12298",
   "metadata": {},
   "outputs": [
    {
     "data": {
      "text/plain": [
       "array([[-3.        ],\n",
       "       [-2.99399399],\n",
       "       [-2.98798799],\n",
       "       [-2.98198198],\n",
       "       [-2.97597598],\n",
       "       [-2.96996997],\n",
       "       [-2.96396396],\n",
       "       [-2.95795796],\n",
       "       [-2.95195195],\n",
       "       [-2.94594595],\n",
       "       [-2.93993994],\n",
       "       [-2.93393393],\n",
       "       [-2.92792793],\n",
       "       [-2.92192192],\n",
       "       [-2.91591592],\n",
       "       [-2.90990991],\n",
       "       [-2.9039039 ],\n",
       "       [-2.8978979 ],\n",
       "       [-2.89189189],\n",
       "       [-2.88588589],\n",
       "       [-2.87987988],\n",
       "       [-2.87387387],\n",
       "       [-2.86786787],\n",
       "       [-2.86186186],\n",
       "       [-2.85585586],\n",
       "       [-2.84984985],\n",
       "       [-2.84384384],\n",
       "       [-2.83783784],\n",
       "       [-2.83183183],\n",
       "       [-2.82582583],\n",
       "       [-2.81981982],\n",
       "       [-2.81381381],\n",
       "       [-2.80780781],\n",
       "       [-2.8018018 ],\n",
       "       [-2.7957958 ],\n",
       "       [-2.78978979],\n",
       "       [-2.78378378],\n",
       "       [-2.77777778],\n",
       "       [-2.77177177],\n",
       "       [-2.76576577],\n",
       "       [-2.75975976],\n",
       "       [-2.75375375],\n",
       "       [-2.74774775],\n",
       "       [-2.74174174],\n",
       "       [-2.73573574],\n",
       "       [-2.72972973],\n",
       "       [-2.72372372],\n",
       "       [-2.71771772],\n",
       "       [-2.71171171],\n",
       "       [-2.70570571],\n",
       "       [-2.6996997 ],\n",
       "       [-2.69369369],\n",
       "       [-2.68768769],\n",
       "       [-2.68168168],\n",
       "       [-2.67567568],\n",
       "       [-2.66966967],\n",
       "       [-2.66366366],\n",
       "       [-2.65765766],\n",
       "       [-2.65165165],\n",
       "       [-2.64564565],\n",
       "       [-2.63963964],\n",
       "       [-2.63363363],\n",
       "       [-2.62762763],\n",
       "       [-2.62162162],\n",
       "       [-2.61561562],\n",
       "       [-2.60960961],\n",
       "       [-2.6036036 ],\n",
       "       [-2.5975976 ],\n",
       "       [-2.59159159],\n",
       "       [-2.58558559],\n",
       "       [-2.57957958],\n",
       "       [-2.57357357],\n",
       "       [-2.56756757],\n",
       "       [-2.56156156],\n",
       "       [-2.55555556],\n",
       "       [-2.54954955],\n",
       "       [-2.54354354],\n",
       "       [-2.53753754],\n",
       "       [-2.53153153],\n",
       "       [-2.52552553],\n",
       "       [-2.51951952],\n",
       "       [-2.51351351],\n",
       "       [-2.50750751],\n",
       "       [-2.5015015 ],\n",
       "       [-2.4954955 ],\n",
       "       [-2.48948949],\n",
       "       [-2.48348348],\n",
       "       [-2.47747748],\n",
       "       [-2.47147147],\n",
       "       [-2.46546547],\n",
       "       [-2.45945946],\n",
       "       [-2.45345345],\n",
       "       [-2.44744745],\n",
       "       [-2.44144144],\n",
       "       [-2.43543544],\n",
       "       [-2.42942943],\n",
       "       [-2.42342342],\n",
       "       [-2.41741742],\n",
       "       [-2.41141141],\n",
       "       [-2.40540541],\n",
       "       [-2.3993994 ],\n",
       "       [-2.39339339],\n",
       "       [-2.38738739],\n",
       "       [-2.38138138],\n",
       "       [-2.37537538],\n",
       "       [-2.36936937],\n",
       "       [-2.36336336],\n",
       "       [-2.35735736],\n",
       "       [-2.35135135],\n",
       "       [-2.34534535],\n",
       "       [-2.33933934],\n",
       "       [-2.33333333],\n",
       "       [-2.32732733],\n",
       "       [-2.32132132],\n",
       "       [-2.31531532],\n",
       "       [-2.30930931],\n",
       "       [-2.3033033 ],\n",
       "       [-2.2972973 ],\n",
       "       [-2.29129129],\n",
       "       [-2.28528529],\n",
       "       [-2.27927928],\n",
       "       [-2.27327327],\n",
       "       [-2.26726727],\n",
       "       [-2.26126126],\n",
       "       [-2.25525526],\n",
       "       [-2.24924925],\n",
       "       [-2.24324324],\n",
       "       [-2.23723724],\n",
       "       [-2.23123123],\n",
       "       [-2.22522523],\n",
       "       [-2.21921922],\n",
       "       [-2.21321321],\n",
       "       [-2.20720721],\n",
       "       [-2.2012012 ],\n",
       "       [-2.1951952 ],\n",
       "       [-2.18918919],\n",
       "       [-2.18318318],\n",
       "       [-2.17717718],\n",
       "       [-2.17117117],\n",
       "       [-2.16516517],\n",
       "       [-2.15915916],\n",
       "       [-2.15315315],\n",
       "       [-2.14714715],\n",
       "       [-2.14114114],\n",
       "       [-2.13513514],\n",
       "       [-2.12912913],\n",
       "       [-2.12312312],\n",
       "       [-2.11711712],\n",
       "       [-2.11111111],\n",
       "       [-2.10510511],\n",
       "       [-2.0990991 ],\n",
       "       [-2.09309309],\n",
       "       [-2.08708709],\n",
       "       [-2.08108108],\n",
       "       [-2.07507508],\n",
       "       [-2.06906907],\n",
       "       [-2.06306306],\n",
       "       [-2.05705706],\n",
       "       [-2.05105105],\n",
       "       [-2.04504505],\n",
       "       [-2.03903904],\n",
       "       [-2.03303303],\n",
       "       [-2.02702703],\n",
       "       [-2.02102102],\n",
       "       [-2.01501502],\n",
       "       [-2.00900901],\n",
       "       [-2.003003  ],\n",
       "       [-1.996997  ],\n",
       "       [-1.99099099],\n",
       "       [-1.98498498],\n",
       "       [-1.97897898],\n",
       "       [-1.97297297],\n",
       "       [-1.96696697],\n",
       "       [-1.96096096],\n",
       "       [-1.95495495],\n",
       "       [-1.94894895],\n",
       "       [-1.94294294],\n",
       "       [-1.93693694],\n",
       "       [-1.93093093],\n",
       "       [-1.92492492],\n",
       "       [-1.91891892],\n",
       "       [-1.91291291],\n",
       "       [-1.90690691],\n",
       "       [-1.9009009 ],\n",
       "       [-1.89489489],\n",
       "       [-1.88888889],\n",
       "       [-1.88288288],\n",
       "       [-1.87687688],\n",
       "       [-1.87087087],\n",
       "       [-1.86486486],\n",
       "       [-1.85885886],\n",
       "       [-1.85285285],\n",
       "       [-1.84684685],\n",
       "       [-1.84084084],\n",
       "       [-1.83483483],\n",
       "       [-1.82882883],\n",
       "       [-1.82282282],\n",
       "       [-1.81681682],\n",
       "       [-1.81081081],\n",
       "       [-1.8048048 ],\n",
       "       [-1.7987988 ],\n",
       "       [-1.79279279],\n",
       "       [-1.78678679],\n",
       "       [-1.78078078],\n",
       "       [-1.77477477],\n",
       "       [-1.76876877],\n",
       "       [-1.76276276],\n",
       "       [-1.75675676],\n",
       "       [-1.75075075],\n",
       "       [-1.74474474],\n",
       "       [-1.73873874],\n",
       "       [-1.73273273],\n",
       "       [-1.72672673],\n",
       "       [-1.72072072],\n",
       "       [-1.71471471],\n",
       "       [-1.70870871],\n",
       "       [-1.7027027 ],\n",
       "       [-1.6966967 ],\n",
       "       [-1.69069069],\n",
       "       [-1.68468468],\n",
       "       [-1.67867868],\n",
       "       [-1.67267267],\n",
       "       [-1.66666667],\n",
       "       [-1.66066066],\n",
       "       [-1.65465465],\n",
       "       [-1.64864865],\n",
       "       [-1.64264264],\n",
       "       [-1.63663664],\n",
       "       [-1.63063063],\n",
       "       [-1.62462462],\n",
       "       [-1.61861862],\n",
       "       [-1.61261261],\n",
       "       [-1.60660661],\n",
       "       [-1.6006006 ],\n",
       "       [-1.59459459],\n",
       "       [-1.58858859],\n",
       "       [-1.58258258],\n",
       "       [-1.57657658],\n",
       "       [-1.57057057],\n",
       "       [-1.56456456],\n",
       "       [-1.55855856],\n",
       "       [-1.55255255],\n",
       "       [-1.54654655],\n",
       "       [-1.54054054],\n",
       "       [-1.53453453],\n",
       "       [-1.52852853],\n",
       "       [-1.52252252],\n",
       "       [-1.51651652],\n",
       "       [-1.51051051],\n",
       "       [-1.5045045 ],\n",
       "       [-1.4984985 ],\n",
       "       [-1.49249249],\n",
       "       [-1.48648649],\n",
       "       [-1.48048048],\n",
       "       [-1.47447447],\n",
       "       [-1.46846847],\n",
       "       [-1.46246246],\n",
       "       [-1.45645646],\n",
       "       [-1.45045045],\n",
       "       [-1.44444444],\n",
       "       [-1.43843844],\n",
       "       [-1.43243243],\n",
       "       [-1.42642643],\n",
       "       [-1.42042042],\n",
       "       [-1.41441441],\n",
       "       [-1.40840841],\n",
       "       [-1.4024024 ],\n",
       "       [-1.3963964 ],\n",
       "       [-1.39039039],\n",
       "       [-1.38438438],\n",
       "       [-1.37837838],\n",
       "       [-1.37237237],\n",
       "       [-1.36636637],\n",
       "       [-1.36036036],\n",
       "       [-1.35435435],\n",
       "       [-1.34834835],\n",
       "       [-1.34234234],\n",
       "       [-1.33633634],\n",
       "       [-1.33033033],\n",
       "       [-1.32432432],\n",
       "       [-1.31831832],\n",
       "       [-1.31231231],\n",
       "       [-1.30630631],\n",
       "       [-1.3003003 ],\n",
       "       [-1.29429429],\n",
       "       [-1.28828829],\n",
       "       [-1.28228228],\n",
       "       [-1.27627628],\n",
       "       [-1.27027027],\n",
       "       [-1.26426426],\n",
       "       [-1.25825826],\n",
       "       [-1.25225225],\n",
       "       [-1.24624625],\n",
       "       [-1.24024024],\n",
       "       [-1.23423423],\n",
       "       [-1.22822823],\n",
       "       [-1.22222222],\n",
       "       [-1.21621622],\n",
       "       [-1.21021021],\n",
       "       [-1.2042042 ],\n",
       "       [-1.1981982 ],\n",
       "       [-1.19219219],\n",
       "       [-1.18618619],\n",
       "       [-1.18018018],\n",
       "       [-1.17417417],\n",
       "       [-1.16816817],\n",
       "       [-1.16216216],\n",
       "       [-1.15615616],\n",
       "       [-1.15015015],\n",
       "       [-1.14414414],\n",
       "       [-1.13813814],\n",
       "       [-1.13213213],\n",
       "       [-1.12612613],\n",
       "       [-1.12012012],\n",
       "       [-1.11411411],\n",
       "       [-1.10810811],\n",
       "       [-1.1021021 ],\n",
       "       [-1.0960961 ],\n",
       "       [-1.09009009],\n",
       "       [-1.08408408],\n",
       "       [-1.07807808],\n",
       "       [-1.07207207],\n",
       "       [-1.06606607],\n",
       "       [-1.06006006],\n",
       "       [-1.05405405],\n",
       "       [-1.04804805],\n",
       "       [-1.04204204],\n",
       "       [-1.03603604],\n",
       "       [-1.03003003],\n",
       "       [-1.02402402],\n",
       "       [-1.01801802],\n",
       "       [-1.01201201],\n",
       "       [-1.00600601],\n",
       "       [-1.        ],\n",
       "       [-0.99399399],\n",
       "       [-0.98798799],\n",
       "       [-0.98198198],\n",
       "       [-0.97597598],\n",
       "       [-0.96996997],\n",
       "       [-0.96396396],\n",
       "       [-0.95795796],\n",
       "       [-0.95195195],\n",
       "       [-0.94594595],\n",
       "       [-0.93993994],\n",
       "       [-0.93393393],\n",
       "       [-0.92792793],\n",
       "       [-0.92192192],\n",
       "       [-0.91591592],\n",
       "       [-0.90990991],\n",
       "       [-0.9039039 ],\n",
       "       [-0.8978979 ],\n",
       "       [-0.89189189],\n",
       "       [-0.88588589],\n",
       "       [-0.87987988],\n",
       "       [-0.87387387],\n",
       "       [-0.86786787],\n",
       "       [-0.86186186],\n",
       "       [-0.85585586],\n",
       "       [-0.84984985],\n",
       "       [-0.84384384],\n",
       "       [-0.83783784],\n",
       "       [-0.83183183],\n",
       "       [-0.82582583],\n",
       "       [-0.81981982],\n",
       "       [-0.81381381],\n",
       "       [-0.80780781],\n",
       "       [-0.8018018 ],\n",
       "       [-0.7957958 ],\n",
       "       [-0.78978979],\n",
       "       [-0.78378378],\n",
       "       [-0.77777778],\n",
       "       [-0.77177177],\n",
       "       [-0.76576577],\n",
       "       [-0.75975976],\n",
       "       [-0.75375375],\n",
       "       [-0.74774775],\n",
       "       [-0.74174174],\n",
       "       [-0.73573574],\n",
       "       [-0.72972973],\n",
       "       [-0.72372372],\n",
       "       [-0.71771772],\n",
       "       [-0.71171171],\n",
       "       [-0.70570571],\n",
       "       [-0.6996997 ],\n",
       "       [-0.69369369],\n",
       "       [-0.68768769],\n",
       "       [-0.68168168],\n",
       "       [-0.67567568],\n",
       "       [-0.66966967],\n",
       "       [-0.66366366],\n",
       "       [-0.65765766],\n",
       "       [-0.65165165],\n",
       "       [-0.64564565],\n",
       "       [-0.63963964],\n",
       "       [-0.63363363],\n",
       "       [-0.62762763],\n",
       "       [-0.62162162],\n",
       "       [-0.61561562],\n",
       "       [-0.60960961],\n",
       "       [-0.6036036 ],\n",
       "       [-0.5975976 ],\n",
       "       [-0.59159159],\n",
       "       [-0.58558559],\n",
       "       [-0.57957958],\n",
       "       [-0.57357357],\n",
       "       [-0.56756757],\n",
       "       [-0.56156156],\n",
       "       [-0.55555556],\n",
       "       [-0.54954955],\n",
       "       [-0.54354354],\n",
       "       [-0.53753754],\n",
       "       [-0.53153153],\n",
       "       [-0.52552553],\n",
       "       [-0.51951952],\n",
       "       [-0.51351351],\n",
       "       [-0.50750751],\n",
       "       [-0.5015015 ],\n",
       "       [-0.4954955 ],\n",
       "       [-0.48948949],\n",
       "       [-0.48348348],\n",
       "       [-0.47747748],\n",
       "       [-0.47147147],\n",
       "       [-0.46546547],\n",
       "       [-0.45945946],\n",
       "       [-0.45345345],\n",
       "       [-0.44744745],\n",
       "       [-0.44144144],\n",
       "       [-0.43543544],\n",
       "       [-0.42942943],\n",
       "       [-0.42342342],\n",
       "       [-0.41741742],\n",
       "       [-0.41141141],\n",
       "       [-0.40540541],\n",
       "       [-0.3993994 ],\n",
       "       [-0.39339339],\n",
       "       [-0.38738739],\n",
       "       [-0.38138138],\n",
       "       [-0.37537538],\n",
       "       [-0.36936937],\n",
       "       [-0.36336336],\n",
       "       [-0.35735736],\n",
       "       [-0.35135135],\n",
       "       [-0.34534535],\n",
       "       [-0.33933934],\n",
       "       [-0.33333333],\n",
       "       [-0.32732733],\n",
       "       [-0.32132132],\n",
       "       [-0.31531532],\n",
       "       [-0.30930931],\n",
       "       [-0.3033033 ],\n",
       "       [-0.2972973 ],\n",
       "       [-0.29129129],\n",
       "       [-0.28528529],\n",
       "       [-0.27927928],\n",
       "       [-0.27327327],\n",
       "       [-0.26726727],\n",
       "       [-0.26126126],\n",
       "       [-0.25525526],\n",
       "       [-0.24924925],\n",
       "       [-0.24324324],\n",
       "       [-0.23723724],\n",
       "       [-0.23123123],\n",
       "       [-0.22522523],\n",
       "       [-0.21921922],\n",
       "       [-0.21321321],\n",
       "       [-0.20720721],\n",
       "       [-0.2012012 ],\n",
       "       [-0.1951952 ],\n",
       "       [-0.18918919],\n",
       "       [-0.18318318],\n",
       "       [-0.17717718],\n",
       "       [-0.17117117],\n",
       "       [-0.16516517],\n",
       "       [-0.15915916],\n",
       "       [-0.15315315],\n",
       "       [-0.14714715],\n",
       "       [-0.14114114],\n",
       "       [-0.13513514],\n",
       "       [-0.12912913],\n",
       "       [-0.12312312],\n",
       "       [-0.11711712],\n",
       "       [-0.11111111],\n",
       "       [-0.10510511],\n",
       "       [-0.0990991 ],\n",
       "       [-0.09309309],\n",
       "       [-0.08708709],\n",
       "       [-0.08108108],\n",
       "       [-0.07507508],\n",
       "       [-0.06906907],\n",
       "       [-0.06306306],\n",
       "       [-0.05705706],\n",
       "       [-0.05105105],\n",
       "       [-0.04504505],\n",
       "       [-0.03903904],\n",
       "       [-0.03303303],\n",
       "       [-0.02702703],\n",
       "       [-0.02102102],\n",
       "       [-0.01501502],\n",
       "       [-0.00900901],\n",
       "       [-0.003003  ],\n",
       "       [ 0.003003  ],\n",
       "       [ 0.00900901],\n",
       "       [ 0.01501502],\n",
       "       [ 0.02102102],\n",
       "       [ 0.02702703],\n",
       "       [ 0.03303303],\n",
       "       [ 0.03903904],\n",
       "       [ 0.04504505],\n",
       "       [ 0.05105105],\n",
       "       [ 0.05705706],\n",
       "       [ 0.06306306],\n",
       "       [ 0.06906907],\n",
       "       [ 0.07507508],\n",
       "       [ 0.08108108],\n",
       "       [ 0.08708709],\n",
       "       [ 0.09309309],\n",
       "       [ 0.0990991 ],\n",
       "       [ 0.10510511],\n",
       "       [ 0.11111111],\n",
       "       [ 0.11711712],\n",
       "       [ 0.12312312],\n",
       "       [ 0.12912913],\n",
       "       [ 0.13513514],\n",
       "       [ 0.14114114],\n",
       "       [ 0.14714715],\n",
       "       [ 0.15315315],\n",
       "       [ 0.15915916],\n",
       "       [ 0.16516517],\n",
       "       [ 0.17117117],\n",
       "       [ 0.17717718],\n",
       "       [ 0.18318318],\n",
       "       [ 0.18918919],\n",
       "       [ 0.1951952 ],\n",
       "       [ 0.2012012 ],\n",
       "       [ 0.20720721],\n",
       "       [ 0.21321321],\n",
       "       [ 0.21921922],\n",
       "       [ 0.22522523],\n",
       "       [ 0.23123123],\n",
       "       [ 0.23723724],\n",
       "       [ 0.24324324],\n",
       "       [ 0.24924925],\n",
       "       [ 0.25525526],\n",
       "       [ 0.26126126],\n",
       "       [ 0.26726727],\n",
       "       [ 0.27327327],\n",
       "       [ 0.27927928],\n",
       "       [ 0.28528529],\n",
       "       [ 0.29129129],\n",
       "       [ 0.2972973 ],\n",
       "       [ 0.3033033 ],\n",
       "       [ 0.30930931],\n",
       "       [ 0.31531532],\n",
       "       [ 0.32132132],\n",
       "       [ 0.32732733],\n",
       "       [ 0.33333333],\n",
       "       [ 0.33933934],\n",
       "       [ 0.34534535],\n",
       "       [ 0.35135135],\n",
       "       [ 0.35735736],\n",
       "       [ 0.36336336],\n",
       "       [ 0.36936937],\n",
       "       [ 0.37537538],\n",
       "       [ 0.38138138],\n",
       "       [ 0.38738739],\n",
       "       [ 0.39339339],\n",
       "       [ 0.3993994 ],\n",
       "       [ 0.40540541],\n",
       "       [ 0.41141141],\n",
       "       [ 0.41741742],\n",
       "       [ 0.42342342],\n",
       "       [ 0.42942943],\n",
       "       [ 0.43543544],\n",
       "       [ 0.44144144],\n",
       "       [ 0.44744745],\n",
       "       [ 0.45345345],\n",
       "       [ 0.45945946],\n",
       "       [ 0.46546547],\n",
       "       [ 0.47147147],\n",
       "       [ 0.47747748],\n",
       "       [ 0.48348348],\n",
       "       [ 0.48948949],\n",
       "       [ 0.4954955 ],\n",
       "       [ 0.5015015 ],\n",
       "       [ 0.50750751],\n",
       "       [ 0.51351351],\n",
       "       [ 0.51951952],\n",
       "       [ 0.52552553],\n",
       "       [ 0.53153153],\n",
       "       [ 0.53753754],\n",
       "       [ 0.54354354],\n",
       "       [ 0.54954955],\n",
       "       [ 0.55555556],\n",
       "       [ 0.56156156],\n",
       "       [ 0.56756757],\n",
       "       [ 0.57357357],\n",
       "       [ 0.57957958],\n",
       "       [ 0.58558559],\n",
       "       [ 0.59159159],\n",
       "       [ 0.5975976 ],\n",
       "       [ 0.6036036 ],\n",
       "       [ 0.60960961],\n",
       "       [ 0.61561562],\n",
       "       [ 0.62162162],\n",
       "       [ 0.62762763],\n",
       "       [ 0.63363363],\n",
       "       [ 0.63963964],\n",
       "       [ 0.64564565],\n",
       "       [ 0.65165165],\n",
       "       [ 0.65765766],\n",
       "       [ 0.66366366],\n",
       "       [ 0.66966967],\n",
       "       [ 0.67567568],\n",
       "       [ 0.68168168],\n",
       "       [ 0.68768769],\n",
       "       [ 0.69369369],\n",
       "       [ 0.6996997 ],\n",
       "       [ 0.70570571],\n",
       "       [ 0.71171171],\n",
       "       [ 0.71771772],\n",
       "       [ 0.72372372],\n",
       "       [ 0.72972973],\n",
       "       [ 0.73573574],\n",
       "       [ 0.74174174],\n",
       "       [ 0.74774775],\n",
       "       [ 0.75375375],\n",
       "       [ 0.75975976],\n",
       "       [ 0.76576577],\n",
       "       [ 0.77177177],\n",
       "       [ 0.77777778],\n",
       "       [ 0.78378378],\n",
       "       [ 0.78978979],\n",
       "       [ 0.7957958 ],\n",
       "       [ 0.8018018 ],\n",
       "       [ 0.80780781],\n",
       "       [ 0.81381381],\n",
       "       [ 0.81981982],\n",
       "       [ 0.82582583],\n",
       "       [ 0.83183183],\n",
       "       [ 0.83783784],\n",
       "       [ 0.84384384],\n",
       "       [ 0.84984985],\n",
       "       [ 0.85585586],\n",
       "       [ 0.86186186],\n",
       "       [ 0.86786787],\n",
       "       [ 0.87387387],\n",
       "       [ 0.87987988],\n",
       "       [ 0.88588589],\n",
       "       [ 0.89189189],\n",
       "       [ 0.8978979 ],\n",
       "       [ 0.9039039 ],\n",
       "       [ 0.90990991],\n",
       "       [ 0.91591592],\n",
       "       [ 0.92192192],\n",
       "       [ 0.92792793],\n",
       "       [ 0.93393393],\n",
       "       [ 0.93993994],\n",
       "       [ 0.94594595],\n",
       "       [ 0.95195195],\n",
       "       [ 0.95795796],\n",
       "       [ 0.96396396],\n",
       "       [ 0.96996997],\n",
       "       [ 0.97597598],\n",
       "       [ 0.98198198],\n",
       "       [ 0.98798799],\n",
       "       [ 0.99399399],\n",
       "       [ 1.        ],\n",
       "       [ 1.00600601],\n",
       "       [ 1.01201201],\n",
       "       [ 1.01801802],\n",
       "       [ 1.02402402],\n",
       "       [ 1.03003003],\n",
       "       [ 1.03603604],\n",
       "       [ 1.04204204],\n",
       "       [ 1.04804805],\n",
       "       [ 1.05405405],\n",
       "       [ 1.06006006],\n",
       "       [ 1.06606607],\n",
       "       [ 1.07207207],\n",
       "       [ 1.07807808],\n",
       "       [ 1.08408408],\n",
       "       [ 1.09009009],\n",
       "       [ 1.0960961 ],\n",
       "       [ 1.1021021 ],\n",
       "       [ 1.10810811],\n",
       "       [ 1.11411411],\n",
       "       [ 1.12012012],\n",
       "       [ 1.12612613],\n",
       "       [ 1.13213213],\n",
       "       [ 1.13813814],\n",
       "       [ 1.14414414],\n",
       "       [ 1.15015015],\n",
       "       [ 1.15615616],\n",
       "       [ 1.16216216],\n",
       "       [ 1.16816817],\n",
       "       [ 1.17417417],\n",
       "       [ 1.18018018],\n",
       "       [ 1.18618619],\n",
       "       [ 1.19219219],\n",
       "       [ 1.1981982 ],\n",
       "       [ 1.2042042 ],\n",
       "       [ 1.21021021],\n",
       "       [ 1.21621622],\n",
       "       [ 1.22222222],\n",
       "       [ 1.22822823],\n",
       "       [ 1.23423423],\n",
       "       [ 1.24024024],\n",
       "       [ 1.24624625],\n",
       "       [ 1.25225225],\n",
       "       [ 1.25825826],\n",
       "       [ 1.26426426],\n",
       "       [ 1.27027027],\n",
       "       [ 1.27627628],\n",
       "       [ 1.28228228],\n",
       "       [ 1.28828829],\n",
       "       [ 1.29429429],\n",
       "       [ 1.3003003 ],\n",
       "       [ 1.30630631],\n",
       "       [ 1.31231231],\n",
       "       [ 1.31831832],\n",
       "       [ 1.32432432],\n",
       "       [ 1.33033033],\n",
       "       [ 1.33633634],\n",
       "       [ 1.34234234],\n",
       "       [ 1.34834835],\n",
       "       [ 1.35435435],\n",
       "       [ 1.36036036],\n",
       "       [ 1.36636637],\n",
       "       [ 1.37237237],\n",
       "       [ 1.37837838],\n",
       "       [ 1.38438438],\n",
       "       [ 1.39039039],\n",
       "       [ 1.3963964 ],\n",
       "       [ 1.4024024 ],\n",
       "       [ 1.40840841],\n",
       "       [ 1.41441441],\n",
       "       [ 1.42042042],\n",
       "       [ 1.42642643],\n",
       "       [ 1.43243243],\n",
       "       [ 1.43843844],\n",
       "       [ 1.44444444],\n",
       "       [ 1.45045045],\n",
       "       [ 1.45645646],\n",
       "       [ 1.46246246],\n",
       "       [ 1.46846847],\n",
       "       [ 1.47447447],\n",
       "       [ 1.48048048],\n",
       "       [ 1.48648649],\n",
       "       [ 1.49249249],\n",
       "       [ 1.4984985 ],\n",
       "       [ 1.5045045 ],\n",
       "       [ 1.51051051],\n",
       "       [ 1.51651652],\n",
       "       [ 1.52252252],\n",
       "       [ 1.52852853],\n",
       "       [ 1.53453453],\n",
       "       [ 1.54054054],\n",
       "       [ 1.54654655],\n",
       "       [ 1.55255255],\n",
       "       [ 1.55855856],\n",
       "       [ 1.56456456],\n",
       "       [ 1.57057057],\n",
       "       [ 1.57657658],\n",
       "       [ 1.58258258],\n",
       "       [ 1.58858859],\n",
       "       [ 1.59459459],\n",
       "       [ 1.6006006 ],\n",
       "       [ 1.60660661],\n",
       "       [ 1.61261261],\n",
       "       [ 1.61861862],\n",
       "       [ 1.62462462],\n",
       "       [ 1.63063063],\n",
       "       [ 1.63663664],\n",
       "       [ 1.64264264],\n",
       "       [ 1.64864865],\n",
       "       [ 1.65465465],\n",
       "       [ 1.66066066],\n",
       "       [ 1.66666667],\n",
       "       [ 1.67267267],\n",
       "       [ 1.67867868],\n",
       "       [ 1.68468468],\n",
       "       [ 1.69069069],\n",
       "       [ 1.6966967 ],\n",
       "       [ 1.7027027 ],\n",
       "       [ 1.70870871],\n",
       "       [ 1.71471471],\n",
       "       [ 1.72072072],\n",
       "       [ 1.72672673],\n",
       "       [ 1.73273273],\n",
       "       [ 1.73873874],\n",
       "       [ 1.74474474],\n",
       "       [ 1.75075075],\n",
       "       [ 1.75675676],\n",
       "       [ 1.76276276],\n",
       "       [ 1.76876877],\n",
       "       [ 1.77477477],\n",
       "       [ 1.78078078],\n",
       "       [ 1.78678679],\n",
       "       [ 1.79279279],\n",
       "       [ 1.7987988 ],\n",
       "       [ 1.8048048 ],\n",
       "       [ 1.81081081],\n",
       "       [ 1.81681682],\n",
       "       [ 1.82282282],\n",
       "       [ 1.82882883],\n",
       "       [ 1.83483483],\n",
       "       [ 1.84084084],\n",
       "       [ 1.84684685],\n",
       "       [ 1.85285285],\n",
       "       [ 1.85885886],\n",
       "       [ 1.86486486],\n",
       "       [ 1.87087087],\n",
       "       [ 1.87687688],\n",
       "       [ 1.88288288],\n",
       "       [ 1.88888889],\n",
       "       [ 1.89489489],\n",
       "       [ 1.9009009 ],\n",
       "       [ 1.90690691],\n",
       "       [ 1.91291291],\n",
       "       [ 1.91891892],\n",
       "       [ 1.92492492],\n",
       "       [ 1.93093093],\n",
       "       [ 1.93693694],\n",
       "       [ 1.94294294],\n",
       "       [ 1.94894895],\n",
       "       [ 1.95495495],\n",
       "       [ 1.96096096],\n",
       "       [ 1.96696697],\n",
       "       [ 1.97297297],\n",
       "       [ 1.97897898],\n",
       "       [ 1.98498498],\n",
       "       [ 1.99099099],\n",
       "       [ 1.996997  ],\n",
       "       [ 2.003003  ],\n",
       "       [ 2.00900901],\n",
       "       [ 2.01501502],\n",
       "       [ 2.02102102],\n",
       "       [ 2.02702703],\n",
       "       [ 2.03303303],\n",
       "       [ 2.03903904],\n",
       "       [ 2.04504505],\n",
       "       [ 2.05105105],\n",
       "       [ 2.05705706],\n",
       "       [ 2.06306306],\n",
       "       [ 2.06906907],\n",
       "       [ 2.07507508],\n",
       "       [ 2.08108108],\n",
       "       [ 2.08708709],\n",
       "       [ 2.09309309],\n",
       "       [ 2.0990991 ],\n",
       "       [ 2.10510511],\n",
       "       [ 2.11111111],\n",
       "       [ 2.11711712],\n",
       "       [ 2.12312312],\n",
       "       [ 2.12912913],\n",
       "       [ 2.13513514],\n",
       "       [ 2.14114114],\n",
       "       [ 2.14714715],\n",
       "       [ 2.15315315],\n",
       "       [ 2.15915916],\n",
       "       [ 2.16516517],\n",
       "       [ 2.17117117],\n",
       "       [ 2.17717718],\n",
       "       [ 2.18318318],\n",
       "       [ 2.18918919],\n",
       "       [ 2.1951952 ],\n",
       "       [ 2.2012012 ],\n",
       "       [ 2.20720721],\n",
       "       [ 2.21321321],\n",
       "       [ 2.21921922],\n",
       "       [ 2.22522523],\n",
       "       [ 2.23123123],\n",
       "       [ 2.23723724],\n",
       "       [ 2.24324324],\n",
       "       [ 2.24924925],\n",
       "       [ 2.25525526],\n",
       "       [ 2.26126126],\n",
       "       [ 2.26726727],\n",
       "       [ 2.27327327],\n",
       "       [ 2.27927928],\n",
       "       [ 2.28528529],\n",
       "       [ 2.29129129],\n",
       "       [ 2.2972973 ],\n",
       "       [ 2.3033033 ],\n",
       "       [ 2.30930931],\n",
       "       [ 2.31531532],\n",
       "       [ 2.32132132],\n",
       "       [ 2.32732733],\n",
       "       [ 2.33333333],\n",
       "       [ 2.33933934],\n",
       "       [ 2.34534535],\n",
       "       [ 2.35135135],\n",
       "       [ 2.35735736],\n",
       "       [ 2.36336336],\n",
       "       [ 2.36936937],\n",
       "       [ 2.37537538],\n",
       "       [ 2.38138138],\n",
       "       [ 2.38738739],\n",
       "       [ 2.39339339],\n",
       "       [ 2.3993994 ],\n",
       "       [ 2.40540541],\n",
       "       [ 2.41141141],\n",
       "       [ 2.41741742],\n",
       "       [ 2.42342342],\n",
       "       [ 2.42942943],\n",
       "       [ 2.43543544],\n",
       "       [ 2.44144144],\n",
       "       [ 2.44744745],\n",
       "       [ 2.45345345],\n",
       "       [ 2.45945946],\n",
       "       [ 2.46546547],\n",
       "       [ 2.47147147],\n",
       "       [ 2.47747748],\n",
       "       [ 2.48348348],\n",
       "       [ 2.48948949],\n",
       "       [ 2.4954955 ],\n",
       "       [ 2.5015015 ],\n",
       "       [ 2.50750751],\n",
       "       [ 2.51351351],\n",
       "       [ 2.51951952],\n",
       "       [ 2.52552553],\n",
       "       [ 2.53153153],\n",
       "       [ 2.53753754],\n",
       "       [ 2.54354354],\n",
       "       [ 2.54954955],\n",
       "       [ 2.55555556],\n",
       "       [ 2.56156156],\n",
       "       [ 2.56756757],\n",
       "       [ 2.57357357],\n",
       "       [ 2.57957958],\n",
       "       [ 2.58558559],\n",
       "       [ 2.59159159],\n",
       "       [ 2.5975976 ],\n",
       "       [ 2.6036036 ],\n",
       "       [ 2.60960961],\n",
       "       [ 2.61561562],\n",
       "       [ 2.62162162],\n",
       "       [ 2.62762763],\n",
       "       [ 2.63363363],\n",
       "       [ 2.63963964],\n",
       "       [ 2.64564565],\n",
       "       [ 2.65165165],\n",
       "       [ 2.65765766],\n",
       "       [ 2.66366366],\n",
       "       [ 2.66966967],\n",
       "       [ 2.67567568],\n",
       "       [ 2.68168168],\n",
       "       [ 2.68768769],\n",
       "       [ 2.69369369],\n",
       "       [ 2.6996997 ],\n",
       "       [ 2.70570571],\n",
       "       [ 2.71171171],\n",
       "       [ 2.71771772],\n",
       "       [ 2.72372372],\n",
       "       [ 2.72972973],\n",
       "       [ 2.73573574],\n",
       "       [ 2.74174174],\n",
       "       [ 2.74774775],\n",
       "       [ 2.75375375],\n",
       "       [ 2.75975976],\n",
       "       [ 2.76576577],\n",
       "       [ 2.77177177],\n",
       "       [ 2.77777778],\n",
       "       [ 2.78378378],\n",
       "       [ 2.78978979],\n",
       "       [ 2.7957958 ],\n",
       "       [ 2.8018018 ],\n",
       "       [ 2.80780781],\n",
       "       [ 2.81381381],\n",
       "       [ 2.81981982],\n",
       "       [ 2.82582583],\n",
       "       [ 2.83183183],\n",
       "       [ 2.83783784],\n",
       "       [ 2.84384384],\n",
       "       [ 2.84984985],\n",
       "       [ 2.85585586],\n",
       "       [ 2.86186186],\n",
       "       [ 2.86786787],\n",
       "       [ 2.87387387],\n",
       "       [ 2.87987988],\n",
       "       [ 2.88588589],\n",
       "       [ 2.89189189],\n",
       "       [ 2.8978979 ],\n",
       "       [ 2.9039039 ],\n",
       "       [ 2.90990991],\n",
       "       [ 2.91591592],\n",
       "       [ 2.92192192],\n",
       "       [ 2.92792793],\n",
       "       [ 2.93393393],\n",
       "       [ 2.93993994],\n",
       "       [ 2.94594595],\n",
       "       [ 2.95195195],\n",
       "       [ 2.95795796],\n",
       "       [ 2.96396396],\n",
       "       [ 2.96996997],\n",
       "       [ 2.97597598],\n",
       "       [ 2.98198198],\n",
       "       [ 2.98798799],\n",
       "       [ 2.99399399],\n",
       "       [ 3.        ]])"
      ]
     },
     "execution_count": 102,
     "metadata": {},
     "output_type": "execute_result"
    }
   ],
   "source": [
    "np.linspace(-3, 3, 1000).reshape(-1, 1)"
   ]
  },
  {
   "cell_type": "code",
   "execution_count": 103,
   "id": "90551afb",
   "metadata": {},
   "outputs": [
    {
     "data": {
      "image/png": "[encoded data removed]",
      "text/plain": [
       "<Figure size 1080x288 with 3 Axes>"
      ]
     },
     "metadata": {
      "needs_background": "light"
     },
     "output_type": "display_data"
    }
   ],
   "source": [
    "fig, axes = plt.subplots(1,3, figsize=(15,4))\n",
    "\n",
    "line = np.linspace(-3, 3, 1000).reshape(-1, 1)\n",
    "\n",
    "for n_neighbors, ax in zip([1, 3, 9], axes): #n_neighbors : 최근젒의 개수 / ax : 축의 개수\n",
    "    \n",
    "    reg = KNeighborsRegressor(n_neighbors=n_neighbors)\n",
    "    reg.fit(X_train, y_train)\n",
    "    ax.plot(line, reg.predict(line))\n",
    "    ax.plot(X_train, y_train, '^', markersize=8)\n",
    "    ax.plot(X_test, y_test, 'v', markersize=8)\n",
    "    \n",
    "    ax.set_xlabel('feature')\n",
    "    ax.set_ylabel('target')\n",
    "    #최근접을 1개로 했을때, 데이터의 특성에 너무 맞음 → 임의의 데이터가 들어왔을때 오차가 커질 가능성이 생김\n",
    "    #최근접은 3개로 했을때, 데이터 특성을 반영하고, 트렌드를 따라감\n",
    "    #최근접을 9개로 했을때, 트렌드만 따라감"
   ]
  },
  {
   "cell_type": "code",
   "execution_count": 104,
   "id": "b61b8532",
   "metadata": {},
   "outputs": [
    {
     "name": "stdout",
     "output_type": "stream",
     "text": [
      "w[0]: 0.393906  b: -0.031804\n"
     ]
    },
    {
     "data": {
      "image/png": "[encoded data removed]",
      "text/plain": [
       "<Figure size 576x576 with 1 Axes>"
      ]
     },
     "metadata": {
      "needs_background": "light"
     },
     "output_type": "display_data"
    }
   ],
   "source": [
    "mglearn.plots.plot_linear_regression_wave()"
   ]
  },
  {
   "cell_type": "code",
   "execution_count": 105,
   "id": "2e3fd7f5",
   "metadata": {},
   "outputs": [],
   "source": [
    "from sklearn.linear_model import LinearRegression\n",
    "X, y = mglearn.datasets.make_wave(n_samples=60)\n",
    "\n",
    "X_train, X_test, y_train, y_test = train_test_split(X, y, random_state=42)\n",
    "\n",
    "lr = LinearRegression().fit(X_train, y_train)"
   ]
  },
  {
   "cell_type": "code",
   "execution_count": 106,
   "id": "b561a263",
   "metadata": {},
   "outputs": [
    {
     "name": "stdout",
     "output_type": "stream",
     "text": [
      "0.6700890315075756\n",
      "0.65933685968637\n"
     ]
    }
   ],
   "source": [
    "print(lr.score(X_train, y_train))\n",
    "print(lr.score(X_test, y_test))"
   ]
  },
  {
   "cell_type": "code",
   "execution_count": 107,
   "id": "c8f6e639",
   "metadata": {},
   "outputs": [
    {
     "name": "stdout",
     "output_type": "stream",
     "text": [
      "[0.39390555]\n",
      "-0.031804343026759746\n"
     ]
    }
   ],
   "source": [
    "print(lr.coef_)\n",
    "print(lr.intercept_)"
   ]
  },
  {
   "cell_type": "code",
   "execution_count": 108,
   "id": "31cc1f61",
   "metadata": {},
   "outputs": [
    {
     "name": "stderr",
     "output_type": "stream",
     "text": [
      "C:\\Users\\sec\\anaconda3\\lib\\site-packages\\sklearn\\utils\\deprecation.py:87: FutureWarning: Function load_boston is deprecated; `load_boston` is deprecated in 1.0 and will be removed in 1.2.\n",
      "\n",
      "    The Boston housing prices dataset has an ethical problem. You can refer to\n",
      "    the documentation of this function for further details.\n",
      "\n",
      "    The scikit-learn maintainers therefore strongly discourage the use of this\n",
      "    dataset unless the purpose of the code is to study and educate about\n",
      "    ethical issues in data science and machine learning.\n",
      "\n",
      "    In this special case, you can fetch the dataset from the original\n",
      "    source::\n",
      "\n",
      "        import pandas as pd\n",
      "        import numpy as np\n",
      "\n",
      "\n",
      "        data_url = \"http://lib.stat.cmu.edu/datasets/boston\"\n",
      "        raw_df = pd.read_csv(data_url, sep=\"\\s+\", skiprows=22, header=None)\n",
      "        data = np.hstack([raw_df.values[::2, :], raw_df.values[1::2, :2]])\n",
      "        target = raw_df.values[1::2, 2]\n",
      "\n",
      "    Alternative datasets include the California housing dataset (i.e.\n",
      "    :func:`~sklearn.datasets.fetch_california_housing`) and the Ames housing\n",
      "    dataset. You can load the datasets as follows::\n",
      "\n",
      "        from sklearn.datasets import fetch_california_housing\n",
      "        housing = fetch_california_housing()\n",
      "\n",
      "    for the California housing dataset and::\n",
      "\n",
      "        from sklearn.datasets import fetch_openml\n",
      "        housing = fetch_openml(name=\"house_prices\", as_frame=True)\n",
      "\n",
      "    for the Ames housing dataset.\n",
      "    \n",
      "  warnings.warn(msg, category=FutureWarning)\n"
     ]
    }
   ],
   "source": [
    "X, y = mglearn.datasets.load_extended_boston()\n",
    "\n",
    "X_train, X_test, y_train, y_test = train_test_split(X, y, random_state = 0)\n",
    "lr = LinearRegression().fit(X_train, y_train)"
   ]
  },
  {
   "cell_type": "code",
   "execution_count": 109,
   "id": "e6c489b0",
   "metadata": {
    "scrolled": true
   },
   "outputs": [
    {
     "name": "stdout",
     "output_type": "stream",
     "text": [
      "0.9520519609032728\n",
      "0.607472195966587\n"
     ]
    }
   ],
   "source": [
    "print(lr.score(X_train, y_train))\n",
    "print(lr.score(X_test,y_test))"
   ]
  },
  {
   "cell_type": "code",
   "execution_count": 110,
   "id": "a9536cce",
   "metadata": {},
   "outputs": [
    {
     "name": "stdout",
     "output_type": "stream",
     "text": [
      "0.8857966585170941\n",
      "0.7527683481744758\n"
     ]
    }
   ],
   "source": [
    "# Rideg / 릿지\n",
    "from sklearn.linear_model import Ridge\n",
    "\n",
    "ridge = Ridge().fit(X_train, y_train)\n",
    "\n",
    "print(ridge.score(X_train, y_train))\n",
    "print(ridge.score(X_test, y_test))"
   ]
  },
  {
   "cell_type": "code",
   "execution_count": 111,
   "id": "95532370",
   "metadata": {},
   "outputs": [
    {
     "name": "stdout",
     "output_type": "stream",
     "text": [
      "0.7882787115369614\n",
      "0.6359411489177311\n"
     ]
    }
   ],
   "source": [
    "ridge10 = Ridge(alpha=10).fit(X_train, y_train)  #alpha : 제약두는 정도\n",
    "\n",
    "print(ridge10.score(X_train, y_train))\n",
    "print(ridge10.score(X_test, y_test))"
   ]
  },
  {
   "cell_type": "code",
   "execution_count": 112,
   "id": "1e06283a",
   "metadata": {},
   "outputs": [
    {
     "name": "stdout",
     "output_type": "stream",
     "text": [
      "0.9282273685001983\n",
      "0.7722067936480148\n"
     ]
    }
   ],
   "source": [
    "ridge01 = Ridge(alpha=0.1).fit(X_train, y_train)\n",
    "\n",
    "print(ridge01.score(X_train, y_train))\n",
    "print(ridge01.score(X_test, y_test))"
   ]
  },
  {
   "cell_type": "code",
   "execution_count": 113,
   "id": "0c0e3326",
   "metadata": {},
   "outputs": [
    {
     "data": {
      "text/plain": [
       "<matplotlib.legend.Legend at 0x1df0c78fb20>"
      ]
     },
     "execution_count": 113,
     "metadata": {},
     "output_type": "execute_result"
    },
    {
     "data": {
      "image/png": "[encoded data removed]",
      "text/plain": [
       "<Figure size 432x288 with 1 Axes>"
      ]
     },
     "metadata": {
      "needs_background": "light"
     },
     "output_type": "display_data"
    }
   ],
   "source": [
    "plt.plot(ridge.coef_, 's', label='Ridege alpha=1')   #s:square\n",
    "plt.plot(ridge10.coef_, '^', label='Ridege alpha=10')\n",
    "plt.plot(ridge01.coef_, 'v', label='Ridege alpha=0.1')\n",
    "\n",
    "plt.legend()"
   ]
  },
  {
   "cell_type": "code",
   "execution_count": 114,
   "id": "96682867",
   "metadata": {},
   "outputs": [
    {
     "name": "stdout",
     "output_type": "stream",
     "text": [
      "0.29323768991114596\n",
      "0.20937503255272272\n"
     ]
    }
   ],
   "source": [
    "# Lasso / 라쏘 회귀\n",
    "\n",
    "from sklearn.linear_model import Lasso\n",
    "\n",
    "lasso = Lasso().fit(X_train, y_train)\n",
    "\n",
    "print(lasso.score(X_train, y_train))\n",
    "print(lasso.score(X_test, y_test))"
   ]
  },
  {
   "cell_type": "code",
   "execution_count": 115,
   "id": "590a31c6",
   "metadata": {},
   "outputs": [
    {
     "name": "stdout",
     "output_type": "stream",
     "text": [
      "0.8961122320864717\n",
      "0.7677995670886714\n"
     ]
    },
    {
     "name": "stderr",
     "output_type": "stream",
     "text": [
      "C:\\Users\\sec\\anaconda3\\lib\\site-packages\\sklearn\\linear_model\\_coordinate_descent.py:647: ConvergenceWarning: Objective did not converge. You might want to increase the number of iterations, check the scale of the features or consider increasing regularisation. Duality gap: 4.690e+01, tolerance: 3.233e+00\n",
      "  model = cd_fast.enet_coordinate_descent(\n"
     ]
    }
   ],
   "source": [
    "lasso001 = Lasso(alpha = 0.01).fit(X_train, y_train)\n",
    "\n",
    "print(lasso001.score(X_train, y_train))\n",
    "print(lasso001.score(X_test, y_test))"
   ]
  },
  {
   "cell_type": "code",
   "execution_count": 116,
   "id": "2a5d1ba4",
   "metadata": {},
   "outputs": [
    {
     "name": "stdout",
     "output_type": "stream",
     "text": [
      "0.9420931515237063\n",
      "0.6976541391663641\n"
     ]
    },
    {
     "name": "stderr",
     "output_type": "stream",
     "text": [
      "C:\\Users\\sec\\anaconda3\\lib\\site-packages\\sklearn\\linear_model\\_coordinate_descent.py:647: ConvergenceWarning: Objective did not converge. You might want to increase the number of iterations, check the scale of the features or consider increasing regularisation. Duality gap: 9.440e+02, tolerance: 3.233e+00\n",
      "  model = cd_fast.enet_coordinate_descent(\n"
     ]
    }
   ],
   "source": [
    "lasso00001 = Lasso(alpha = 0.0001).fit(X_train, y_train)\n",
    "\n",
    "print(lasso00001.score(X_train, y_train))\n",
    "print(lasso00001.score(X_test, y_test))"
   ]
  },
  {
   "cell_type": "code",
   "execution_count": 117,
   "id": "c0d59c2e",
   "metadata": {},
   "outputs": [
    {
     "name": "stdout",
     "output_type": "stream",
     "text": [
      "0.9426383219008584\n",
      "0.6916323869060212\n"
     ]
    },
    {
     "name": "stderr",
     "output_type": "stream",
     "text": [
      "C:\\Users\\sec\\AppData\\Local\\Temp/ipykernel_18652/1357031886.py:1: UserWarning: With alpha=0, this algorithm does not converge well. You are advised to use the LinearRegression estimator\n",
      "  lasso0 = Lasso(alpha = 0).fit(X_train, y_train)\n",
      "C:\\Users\\sec\\anaconda3\\lib\\site-packages\\sklearn\\linear_model\\_coordinate_descent.py:647: UserWarning: Coordinate descent with no regularization may lead to unexpected results and is discouraged.\n",
      "  model = cd_fast.enet_coordinate_descent(\n",
      "C:\\Users\\sec\\anaconda3\\lib\\site-packages\\sklearn\\linear_model\\_coordinate_descent.py:647: ConvergenceWarning: Objective did not converge. You might want to increase the number of iterations, check the scale of the features or consider increasing regularisation. Duality gap: 9.273e+02, tolerance: 3.233e+00 Linear regression models with null weight for the l1 regularization term are more efficiently fitted using one of the solvers implemented in sklearn.linear_model.Ridge/RidgeCV instead.\n",
      "  model = cd_fast.enet_coordinate_descent(\n"
     ]
    }
   ],
   "source": [
    "lasso0 = Lasso(alpha = 0).fit(X_train, y_train)\n",
    "\n",
    "print(lasso0.score(X_train, y_train))\n",
    "print(lasso0.score(X_test, y_test))"
   ]
  },
  {
   "cell_type": "code",
   "execution_count": 118,
   "id": "eeb04748",
   "metadata": {},
   "outputs": [
    {
     "name": "stderr",
     "output_type": "stream",
     "text": [
      "C:\\Users\\sec\\anaconda3\\lib\\site-packages\\sklearn\\utils\\deprecation.py:87: FutureWarning: Function make_blobs is deprecated; Please import make_blobs directly from scikit-learn\n",
      "  warnings.warn(msg, category=FutureWarning)\n",
      "C:\\Users\\sec\\anaconda3\\lib\\site-packages\\sklearn\\svm\\_base.py:1206: ConvergenceWarning: Liblinear failed to converge, increase the number of iterations.\n",
      "  warnings.warn(\n"
     ]
    },
    {
     "data": {
      "image/png": "[encoded data removed]",
      "text/plain": [
       "<Figure size 720x216 with 2 Axes>"
      ]
     },
     "metadata": {},
     "output_type": "display_data"
    }
   ],
   "source": [
    "#분류에 대한 선형 모델\n",
    "from sklearn.linear_model import LogisticRegression  #로지스틱회귀 : 회귀 알고리즘이 아니라, Classification알고리즘임!\n",
    "from sklearn.svm import LinearSVC\n",
    "\n",
    "X, y = mglearn.datasets.make_forge()\n",
    "\n",
    "fig, axes = plt.subplots(1, 2, figsize=(10, 3))\n",
    "\n",
    "for model, ax in zip([LinearSVC(), LogisticRegression()], axes):\n",
    "    clf = model.fit(X, y)\n",
    "    \n",
    "    mglearn.plots.plot_2d_separator(clf, X, fill=False, eps=0.5, \n",
    "                                    alpha = 0.7, ax=ax)\n",
    "    \n",
    "    mglearn.discrete_scatter(X[:,0], X[:,1], y, ax=ax)"
   ]
  },
  {
   "cell_type": "markdown",
   "id": "ef8b10e7",
   "metadata": {},
   "source": [
    "### https://youtu.be/Xm2C_gTAl8c (Lasso, Ridge)"
   ]
  },
  {
   "cell_type": "code",
   "execution_count": 119,
   "id": "9fef3004",
   "metadata": {},
   "outputs": [
    {
     "data": {
      "image/png": "[encoded data removed]",
      "text/plain": [
       "<Figure size 864x288 with 3 Axes>"
      ]
     },
     "metadata": {},
     "output_type": "display_data"
    }
   ],
   "source": [
    "mglearn.plots.plot_linear_svc_regularization()   #정규화"
   ]
  },
  {
   "cell_type": "code",
   "execution_count": 122,
   "id": "52679b82",
   "metadata": {},
   "outputs": [
    {
     "name": "stdout",
     "output_type": "stream",
     "text": [
      "0.958041958041958\n",
      "0.958041958041958\n"
     ]
    },
    {
     "name": "stderr",
     "output_type": "stream",
     "text": [
      "C:\\Users\\sec\\anaconda3\\lib\\site-packages\\sklearn\\linear_model\\_logistic.py:814: ConvergenceWarning: lbfgs failed to converge (status=1):\n",
      "STOP: TOTAL NO. of ITERATIONS REACHED LIMIT.\n",
      "\n",
      "Increase the number of iterations (max_iter) or scale the data as shown in:\n",
      "    https://scikit-learn.org/stable/modules/preprocessing.html\n",
      "Please also refer to the documentation for alternative solver options:\n",
      "    https://scikit-learn.org/stable/modules/linear_model.html#logistic-regression\n",
      "  n_iter_i = _check_optimize_result(\n"
     ]
    }
   ],
   "source": [
    "from sklearn.datasets import load_breast_cancer\n",
    "cancer = load_breast_cancer()\n",
    "X_train, X_test, y_train, y_test = train_test_split(cancer.data, cancer.target,\n",
    "                                                   random_state=42)\n",
    "\n",
    "logreg = LogisticRegression().fit(X_train, y_train)\n",
    "print(logreg.score(X_test, y_test))\n",
    "print(logreg.score(X_test, y_test))"
   ]
  },
  {
   "cell_type": "code",
   "execution_count": 121,
   "id": "2a2c457a",
   "metadata": {},
   "outputs": [],
   "source": [
    "# https://scikit-learn.org/stable/modules/preprocessing.html"
   ]
  },
  {
   "cell_type": "code",
   "execution_count": null,
   "id": "14ae9594",
   "metadata": {},
   "outputs": [],
   "source": []
  }
 ],
 "metadata": {
  "kernelspec": {
   "display_name": "Python 3 (ipykernel)",
   "language": "python",
   "name": "python3"
  },
  "language_info": {
   "codemirror_mode": {
    "name": "ipython",
    "version": 3
   },
   "file_extension": ".py",
   "mimetype": "text/x-python",
   "name": "python",
   "nbconvert_exporter": "python",
   "pygments_lexer": "ipython3",
   "version": "3.9.7"
  }
 },
 "nbformat": 4,
 "nbformat_minor": 5
}
